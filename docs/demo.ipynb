{
 "cells": [
  {
   "cell_type": "markdown",
   "metadata": {},
   "source": [
    "# pubmed_tool Demonstration"
   ]
  },
  {
   "cell_type": "markdown",
   "metadata": {},
   "source": [
    "## Installation"
   ]
  },
  {
   "cell_type": "markdown",
   "metadata": {},
   "source": [
    "The `pubmed_tool` can be installed with a single pip command"
   ]
  },
  {
   "cell_type": "code",
   "execution_count": 1,
   "metadata": {},
   "outputs": [
    {
     "name": "stdout",
     "output_type": "stream",
     "text": [
      "Collecting pubmed_tool@ git+https://github.com/intro-to-ds-capstone/capstone-projectNote: you may need to restart the kernel to use updated packages.\n",
      "\n",
      "  Cloning https://github.com/intro-to-ds-capstone/capstone-project to c:\\users\\morri\\appdata\\local\\temp\\pip-install-5egwig1r\\pubmed-tool_8dff25107ccc4b3990028da7bcd1c4af\n",
      "  Resolved https://github.com/intro-to-ds-capstone/capstone-project to commit 960b8de0147c1eeba87ce89025e73a0445f633a3\n",
      "  Preparing metadata (setup.py): started\n",
      "  Preparing metadata (setup.py): finished with status 'done'\n",
      "Requirement already satisfied: Bio>=1.6.0 in c:\\users\\morri\\appdata\\local\\packages\\pythonsoftwarefoundation.python.3.10_qbz5n2kfra8p0\\localcache\\local-packages\\python310\\site-packages (from pubmed_tool@ git+https://github.com/intro-to-ds-capstone/capstone-project) (1.6.0)\n",
      "Requirement already satisfied: biopython>=1.81 in c:\\users\\morri\\appdata\\local\\packages\\pythonsoftwarefoundation.python.3.10_qbz5n2kfra8p0\\localcache\\local-packages\\python310\\site-packages (from pubmed_tool@ git+https://github.com/intro-to-ds-capstone/capstone-project) (1.81)\n",
      "Requirement already satisfied: bokeh>=3.3.1 in c:\\users\\morri\\appdata\\local\\packages\\pythonsoftwarefoundation.python.3.10_qbz5n2kfra8p0\\localcache\\local-packages\\python310\\site-packages (from pubmed_tool@ git+https://github.com/intro-to-ds-capstone/capstone-project) (3.3.1)\n",
      "Requirement already satisfied: holoviews>=1.18.1 in c:\\users\\morri\\appdata\\local\\packages\\pythonsoftwarefoundation.python.3.10_qbz5n2kfra8p0\\localcache\\local-packages\\python310\\site-packages (from pubmed_tool@ git+https://github.com/intro-to-ds-capstone/capstone-project) (1.18.1)\n",
      "Requirement already satisfied: hvplot>=0.9.0 in c:\\users\\morri\\appdata\\local\\packages\\pythonsoftwarefoundation.python.3.10_qbz5n2kfra8p0\\localcache\\local-packages\\python310\\site-packages (from pubmed_tool@ git+https://github.com/intro-to-ds-capstone/capstone-project) (0.9.0)\n",
      "Requirement already satisfied: matplotlib>=3.5.2 in c:\\users\\morri\\appdata\\local\\packages\\pythonsoftwarefoundation.python.3.10_qbz5n2kfra8p0\\localcache\\local-packages\\python310\\site-packages (from pubmed_tool@ git+https://github.com/intro-to-ds-capstone/capstone-project) (3.5.2)\n",
      "Requirement already satisfied: numpy>=1.23.1 in c:\\users\\morri\\appdata\\local\\packages\\pythonsoftwarefoundation.python.3.10_qbz5n2kfra8p0\\localcache\\local-packages\\python310\\site-packages (from pubmed_tool@ git+https://github.com/intro-to-ds-capstone/capstone-project) (1.23.1)\n",
      "Requirement already satisfied: pandas>=1.5.3 in c:\\users\\morri\\appdata\\local\\packages\\pythonsoftwarefoundation.python.3.10_qbz5n2kfra8p0\\localcache\\local-packages\\python310\\site-packages (from pubmed_tool@ git+https://github.com/intro-to-ds-capstone/capstone-project) (1.5.3)\n",
      "Requirement already satisfied: panel>=1.3.1 in c:\\users\\morri\\appdata\\local\\packages\\pythonsoftwarefoundation.python.3.10_qbz5n2kfra8p0\\localcache\\local-packages\\python310\\site-packages (from pubmed_tool@ git+https://github.com/intro-to-ds-capstone/capstone-project) (1.3.1)\n",
      "Requirement already satisfied: Requests>=2.31.0 in c:\\users\\morri\\appdata\\local\\packages\\pythonsoftwarefoundation.python.3.10_qbz5n2kfra8p0\\localcache\\local-packages\\python310\\site-packages (from pubmed_tool@ git+https://github.com/intro-to-ds-capstone/capstone-project) (2.31.0)\n",
      "Requirement already satisfied: tqdm in c:\\users\\morri\\appdata\\local\\packages\\pythonsoftwarefoundation.python.3.10_qbz5n2kfra8p0\\localcache\\local-packages\\python310\\site-packages (from Bio>=1.6.0->pubmed_tool@ git+https://github.com/intro-to-ds-capstone/capstone-project) (4.66.1)\n",
      "Requirement already satisfied: mygene in c:\\users\\morri\\appdata\\local\\packages\\pythonsoftwarefoundation.python.3.10_qbz5n2kfra8p0\\localcache\\local-packages\\python310\\site-packages (from Bio>=1.6.0->pubmed_tool@ git+https://github.com/intro-to-ds-capstone/capstone-project) (3.2.2)\n",
      "Requirement already satisfied: pooch in c:\\users\\morri\\appdata\\local\\packages\\pythonsoftwarefoundation.python.3.10_qbz5n2kfra8p0\\localcache\\local-packages\\python310\\site-packages (from Bio>=1.6.0->pubmed_tool@ git+https://github.com/intro-to-ds-capstone/capstone-project) (1.8.0)\n",
      "Requirement already satisfied: gprofiler-official in c:\\users\\morri\\appdata\\local\\packages\\pythonsoftwarefoundation.python.3.10_qbz5n2kfra8p0\\localcache\\local-packages\\python310\\site-packages (from Bio>=1.6.0->pubmed_tool@ git+https://github.com/intro-to-ds-capstone/capstone-project) (1.0.0)\n",
      "Requirement already satisfied: Jinja2>=2.9 in c:\\users\\morri\\appdata\\local\\packages\\pythonsoftwarefoundation.python.3.10_qbz5n2kfra8p0\\localcache\\local-packages\\python310\\site-packages (from bokeh>=3.3.1->pubmed_tool@ git+https://github.com/intro-to-ds-capstone/capstone-project) (3.1.2)\n",
      "Requirement already satisfied: contourpy>=1 in c:\\users\\morri\\appdata\\local\\packages\\pythonsoftwarefoundation.python.3.10_qbz5n2kfra8p0\\localcache\\local-packages\\python310\\site-packages (from bokeh>=3.3.1->pubmed_tool@ git+https://github.com/intro-to-ds-capstone/capstone-project) (1.0.6)\n",
      "Requirement already satisfied: packaging>=16.8 in c:\\users\\morri\\appdata\\local\\packages\\pythonsoftwarefoundation.python.3.10_qbz5n2kfra8p0\\localcache\\local-packages\\python310\\site-packages (from bokeh>=3.3.1->pubmed_tool@ git+https://github.com/intro-to-ds-capstone/capstone-project) (21.3)\n",
      "Requirement already satisfied: pillow>=7.1.0 in c:\\users\\morri\\appdata\\local\\packages\\pythonsoftwarefoundation.python.3.10_qbz5n2kfra8p0\\localcache\\local-packages\\python310\\site-packages (from bokeh>=3.3.1->pubmed_tool@ git+https://github.com/intro-to-ds-capstone/capstone-project) (9.2.0)\n",
      "Requirement already satisfied: PyYAML>=3.10 in c:\\users\\morri\\appdata\\local\\packages\\pythonsoftwarefoundation.python.3.10_qbz5n2kfra8p0\\localcache\\local-packages\\python310\\site-packages (from bokeh>=3.3.1->pubmed_tool@ git+https://github.com/intro-to-ds-capstone/capstone-project) (6.0)\n",
      "Requirement already satisfied: tornado>=5.1 in c:\\users\\morri\\appdata\\local\\packages\\pythonsoftwarefoundation.python.3.10_qbz5n2kfra8p0\\localcache\\local-packages\\python310\\site-packages (from bokeh>=3.3.1->pubmed_tool@ git+https://github.com/intro-to-ds-capstone/capstone-project) (6.2)\n",
      "Requirement already satisfied: xyzservices>=2021.09.1 in c:\\users\\morri\\appdata\\local\\packages\\pythonsoftwarefoundation.python.3.10_qbz5n2kfra8p0\\localcache\\local-packages\\python310\\site-packages (from bokeh>=3.3.1->pubmed_tool@ git+https://github.com/intro-to-ds-capstone/capstone-project) (2022.9.0)\n",
      "Requirement already satisfied: param<3.0,>=1.12.0 in c:\\users\\morri\\appdata\\local\\packages\\pythonsoftwarefoundation.python.3.10_qbz5n2kfra8p0\\localcache\\local-packages\\python310\\site-packages (from holoviews>=1.18.1->pubmed_tool@ git+https://github.com/intro-to-ds-capstone/capstone-project) (2.0.1)\n",
      "Requirement already satisfied: pyviz-comms>=0.7.4 in c:\\users\\morri\\appdata\\local\\packages\\pythonsoftwarefoundation.python.3.10_qbz5n2kfra8p0\\localcache\\local-packages\\python310\\site-packages (from holoviews>=1.18.1->pubmed_tool@ git+https://github.com/intro-to-ds-capstone/capstone-project) (3.0.0)\n",
      "Requirement already satisfied: colorcet in c:\\users\\morri\\appdata\\local\\packages\\pythonsoftwarefoundation.python.3.10_qbz5n2kfra8p0\\localcache\\local-packages\\python310\\site-packages (from holoviews>=1.18.1->pubmed_tool@ git+https://github.com/intro-to-ds-capstone/capstone-project) (3.0.1)\n",
      "Requirement already satisfied: cycler>=0.10 in c:\\users\\morri\\appdata\\local\\packages\\pythonsoftwarefoundation.python.3.10_qbz5n2kfra8p0\\localcache\\local-packages\\python310\\site-packages (from matplotlib>=3.5.2->pubmed_tool@ git+https://github.com/intro-to-ds-capstone/capstone-project) (0.11.0)\n",
      "Requirement already satisfied: fonttools>=4.22.0 in c:\\users\\morri\\appdata\\local\\packages\\pythonsoftwarefoundation.python.3.10_qbz5n2kfra8p0\\localcache\\local-packages\\python310\\site-packages (from matplotlib>=3.5.2->pubmed_tool@ git+https://github.com/intro-to-ds-capstone/capstone-project) (4.34.4)\n",
      "Requirement already satisfied: kiwisolver>=1.0.1 in c:\\users\\morri\\appdata\\local\\packages\\pythonsoftwarefoundation.python.3.10_qbz5n2kfra8p0\\localcache\\local-packages\\python310\\site-packages (from matplotlib>=3.5.2->pubmed_tool@ git+https://github.com/intro-to-ds-capstone/capstone-project) (1.4.3)\n",
      "Requirement already satisfied: pyparsing>=2.2.1 in c:\\users\\morri\\appdata\\local\\packages\\pythonsoftwarefoundation.python.3.10_qbz5n2kfra8p0\\localcache\\local-packages\\python310\\site-packages (from matplotlib>=3.5.2->pubmed_tool@ git+https://github.com/intro-to-ds-capstone/capstone-project) (3.0.9)\n",
      "Requirement already satisfied: python-dateutil>=2.7 in c:\\users\\morri\\appdata\\local\\packages\\pythonsoftwarefoundation.python.3.10_qbz5n2kfra8p0\\localcache\\local-packages\\python310\\site-packages (from matplotlib>=3.5.2->pubmed_tool@ git+https://github.com/intro-to-ds-capstone/capstone-project) (2.8.2)\n",
      "Requirement already satisfied: pytz>=2020.1 in c:\\users\\morri\\appdata\\local\\packages\\pythonsoftwarefoundation.python.3.10_qbz5n2kfra8p0\\localcache\\local-packages\\python310\\site-packages (from pandas>=1.5.3->pubmed_tool@ git+https://github.com/intro-to-ds-capstone/capstone-project) (2022.1)\n",
      "Requirement already satisfied: markdown in c:\\users\\morri\\appdata\\local\\packages\\pythonsoftwarefoundation.python.3.10_qbz5n2kfra8p0\\localcache\\local-packages\\python310\\site-packages (from panel>=1.3.1->pubmed_tool@ git+https://github.com/intro-to-ds-capstone/capstone-project) (3.5.1)\n",
      "Requirement already satisfied: markdown-it-py in c:\\users\\morri\\appdata\\local\\packages\\pythonsoftwarefoundation.python.3.10_qbz5n2kfra8p0\\localcache\\local-packages\\python310\\site-packages (from panel>=1.3.1->pubmed_tool@ git+https://github.com/intro-to-ds-capstone/capstone-project) (3.0.0)\n",
      "Requirement already satisfied: linkify-it-py in c:\\users\\morri\\appdata\\local\\packages\\pythonsoftwarefoundation.python.3.10_qbz5n2kfra8p0\\localcache\\local-packages\\python310\\site-packages (from panel>=1.3.1->pubmed_tool@ git+https://github.com/intro-to-ds-capstone/capstone-project) (2.0.2)\n",
      "Requirement already satisfied: mdit-py-plugins in c:\\users\\morri\\appdata\\local\\packages\\pythonsoftwarefoundation.python.3.10_qbz5n2kfra8p0\\localcache\\local-packages\\python310\\site-packages (from panel>=1.3.1->pubmed_tool@ git+https://github.com/intro-to-ds-capstone/capstone-project) (0.4.0)\n",
      "Requirement already satisfied: bleach in c:\\users\\morri\\appdata\\local\\packages\\pythonsoftwarefoundation.python.3.10_qbz5n2kfra8p0\\localcache\\local-packages\\python310\\site-packages (from panel>=1.3.1->pubmed_tool@ git+https://github.com/intro-to-ds-capstone/capstone-project) (5.0.1)\n",
      "Requirement already satisfied: typing-extensions in c:\\users\\morri\\appdata\\local\\packages\\pythonsoftwarefoundation.python.3.10_qbz5n2kfra8p0\\localcache\\local-packages\\python310\\site-packages (from panel>=1.3.1->pubmed_tool@ git+https://github.com/intro-to-ds-capstone/capstone-project) (4.4.0)\n",
      "Requirement already satisfied: charset-normalizer<4,>=2 in c:\\users\\morri\\appdata\\local\\packages\\pythonsoftwarefoundation.python.3.10_qbz5n2kfra8p0\\localcache\\local-packages\\python310\\site-packages (from Requests>=2.31.0->pubmed_tool@ git+https://github.com/intro-to-ds-capstone/capstone-project) (2.0.12)\n",
      "Requirement already satisfied: idna<4,>=2.5 in c:\\users\\morri\\appdata\\local\\packages\\pythonsoftwarefoundation.python.3.10_qbz5n2kfra8p0\\localcache\\local-packages\\python310\\site-packages (from Requests>=2.31.0->pubmed_tool@ git+https://github.com/intro-to-ds-capstone/capstone-project) (3.3)\n",
      "Requirement already satisfied: urllib3<3,>=1.21.1 in c:\\users\\morri\\appdata\\local\\packages\\pythonsoftwarefoundation.python.3.10_qbz5n2kfra8p0\\localcache\\local-packages\\python310\\site-packages (from Requests>=2.31.0->pubmed_tool@ git+https://github.com/intro-to-ds-capstone/capstone-project) (2.1.0)\n",
      "Requirement already satisfied: certifi>=2017.4.17 in c:\\users\\morri\\appdata\\local\\packages\\pythonsoftwarefoundation.python.3.10_qbz5n2kfra8p0\\localcache\\local-packages\\python310\\site-packages (from Requests>=2.31.0->pubmed_tool@ git+https://github.com/intro-to-ds-capstone/capstone-project) (2022.6.15)\n",
      "Requirement already satisfied: pyct>=0.4.4 in c:\\users\\morri\\appdata\\local\\packages\\pythonsoftwarefoundation.python.3.10_qbz5n2kfra8p0\\localcache\\local-packages\\python310\\site-packages (from colorcet->holoviews>=1.18.1->pubmed_tool@ git+https://github.com/intro-to-ds-capstone/capstone-project) (0.5.0)\n",
      "Requirement already satisfied: MarkupSafe>=2.0 in c:\\users\\morri\\appdata\\local\\packages\\pythonsoftwarefoundation.python.3.10_qbz5n2kfra8p0\\localcache\\local-packages\\python310\\site-packages (from Jinja2>=2.9->bokeh>=3.3.1->pubmed_tool@ git+https://github.com/intro-to-ds-capstone/capstone-project) (2.1.1)\n",
      "Requirement already satisfied: six>=1.5 in c:\\users\\morri\\appdata\\local\\packages\\pythonsoftwarefoundation.python.3.10_qbz5n2kfra8p0\\localcache\\local-packages\\python310\\site-packages (from python-dateutil>=2.7->matplotlib>=3.5.2->pubmed_tool@ git+https://github.com/intro-to-ds-capstone/capstone-project) (1.16.0)\n",
      "Requirement already satisfied: colorama in c:\\users\\morri\\appdata\\local\\packages\\pythonsoftwarefoundation.python.3.10_qbz5n2kfra8p0\\localcache\\local-packages\\python310\\site-packages (from tqdm->Bio>=1.6.0->pubmed_tool@ git+https://github.com/intro-to-ds-capstone/capstone-project) (0.4.6)\n",
      "Requirement already satisfied: webencodings in c:\\users\\morri\\appdata\\local\\packages\\pythonsoftwarefoundation.python.3.10_qbz5n2kfra8p0\\localcache\\local-packages\\python310\\site-packages (from bleach->panel>=1.3.1->pubmed_tool@ git+https://github.com/intro-to-ds-capstone/capstone-project) (0.5.1)\n",
      "Requirement already satisfied: uc-micro-py in c:\\users\\morri\\appdata\\local\\packages\\pythonsoftwarefoundation.python.3.10_qbz5n2kfra8p0\\localcache\\local-packages\\python310\\site-packages (from linkify-it-py->panel>=1.3.1->pubmed_tool@ git+https://github.com/intro-to-ds-capstone/capstone-project) (1.0.2)\n",
      "Requirement already satisfied: mdurl~=0.1 in c:\\users\\morri\\appdata\\local\\packages\\pythonsoftwarefoundation.python.3.10_qbz5n2kfra8p0\\localcache\\local-packages\\python310\\site-packages (from markdown-it-py->panel>=1.3.1->pubmed_tool@ git+https://github.com/intro-to-ds-capstone/capstone-project) (0.1.2)\n",
      "Requirement already satisfied: biothings-client>=0.2.6 in c:\\users\\morri\\appdata\\local\\packages\\pythonsoftwarefoundation.python.3.10_qbz5n2kfra8p0\\localcache\\local-packages\\python310\\site-packages (from mygene->Bio>=1.6.0->pubmed_tool@ git+https://github.com/intro-to-ds-capstone/capstone-project) (0.3.1)\n",
      "Requirement already satisfied: platformdirs>=2.5.0 in c:\\users\\morri\\appdata\\local\\packages\\pythonsoftwarefoundation.python.3.10_qbz5n2kfra8p0\\localcache\\local-packages\\python310\\site-packages (from pooch->Bio>=1.6.0->pubmed_tool@ git+https://github.com/intro-to-ds-capstone/capstone-project) (2.5.3)\n",
      "Building wheels for collected packages: pubmed_tool\n",
      "  Building wheel for pubmed_tool (setup.py): started\n",
      "  Building wheel for pubmed_tool (setup.py): finished with status 'done'\n",
      "  Created wheel for pubmed_tool: filename=pubmed_tool-1.0.0-py3-none-any.whl size=33352 sha256=494f1d0444cea60402977fbe5f6aa99a6e43e0c42bf942dbc73eb7d3162f06f6\n",
      "  Stored in directory: C:\\Users\\morri\\AppData\\Local\\Temp\\pip-ephem-wheel-cache-cqyxhk8x\\wheels\\ed\\28\\96\\31cb1d611a89c4cb189a4b7b78b667122ad2d619a8756cc751\n",
      "Successfully built pubmed_tool\n",
      "Installing collected packages: pubmed_tool\n",
      "Successfully installed pubmed_tool-1.0.0\n"
     ]
    },
    {
     "name": "stderr",
     "output_type": "stream",
     "text": [
      "  Running command git clone --filter=blob:none --quiet https://github.com/intro-to-ds-capstone/capstone-project 'C:\\Users\\morri\\AppData\\Local\\Temp\\pip-install-5egwig1r\\pubmed-tool_8dff25107ccc4b3990028da7bcd1c4af'\n"
     ]
    }
   ],
   "source": [
    "pip install pubmed_tool@git+https://github.com/intro-to-ds-capstone/capstone-project"
   ]
  },
  {
   "cell_type": "markdown",
   "metadata": {},
   "source": [
    "Alternatively, the contents of the file /pubmed_tool on the project [GitHub repository](https://github.com/intro-to-ds-capstone/capstone-project) can be manually downloaded and extracted into the project directory. Downloading the files offers the opportunity to customize the functions further."
   ]
  },
  {
   "cell_type": "markdown",
   "metadata": {},
   "source": [
    "## Import"
   ]
  },
  {
   "cell_type": "markdown",
   "metadata": {},
   "source": [
    "`pubmed_tool` can be imported as a single command"
   ]
  },
  {
   "cell_type": "code",
   "execution_count": 2,
   "metadata": {},
   "outputs": [
    {
     "data": {
      "application/javascript": "(function(root) {\n  function now() {\n    return new Date();\n  }\n\n  var force = true;\n  var py_version = '3.3.1'.replace('rc', '-rc.').replace('.dev', '-dev.');\n  var is_dev = py_version.indexOf(\"+\") !== -1 || py_version.indexOf(\"-\") !== -1;\n  var reloading = false;\n  var Bokeh = root.Bokeh;\n  var bokeh_loaded = Bokeh != null && (Bokeh.version === py_version || (Bokeh.versions !== undefined && Bokeh.versions.has(py_version)));\n\n  if (typeof (root._bokeh_timeout) === \"undefined\" || force) {\n    root._bokeh_timeout = Date.now() + 5000;\n    root._bokeh_failed_load = false;\n  }\n\n  function run_callbacks() {\n    try {\n      root._bokeh_onload_callbacks.forEach(function(callback) {\n        if (callback != null)\n          callback();\n      });\n    } finally {\n      delete root._bokeh_onload_callbacks;\n    }\n    console.debug(\"Bokeh: all callbacks have finished\");\n  }\n\n  function load_libs(css_urls, js_urls, js_modules, js_exports, callback) {\n    if (css_urls == null) css_urls = [];\n    if (js_urls == null) js_urls = [];\n    if (js_modules == null) js_modules = [];\n    if (js_exports == null) js_exports = {};\n\n    root._bokeh_onload_callbacks.push(callback);\n\n    if (root._bokeh_is_loading > 0) {\n      console.debug(\"Bokeh: BokehJS is being loaded, scheduling callback at\", now());\n      return null;\n    }\n    if (js_urls.length === 0 && js_modules.length === 0 && Object.keys(js_exports).length === 0) {\n      run_callbacks();\n      return null;\n    }\n    if (!reloading) {\n      console.debug(\"Bokeh: BokehJS not loaded, scheduling load and callback at\", now());\n    }\n\n    function on_load() {\n      root._bokeh_is_loading--;\n      if (root._bokeh_is_loading === 0) {\n        console.debug(\"Bokeh: all BokehJS libraries/stylesheets loaded\");\n        run_callbacks()\n      }\n    }\n    window._bokeh_on_load = on_load\n\n    function on_error() {\n      console.error(\"failed to load \" + url);\n    }\n\n    var skip = [];\n    if (window.requirejs) {\n      window.requirejs.config({'packages': {}, 'paths': {'jspanel': 'https://cdn.jsdelivr.net/npm/jspanel4@4.12.0/dist/jspanel', 'jspanel-modal': 'https://cdn.jsdelivr.net/npm/jspanel4@4.12.0/dist/extensions/modal/jspanel.modal', 'jspanel-tooltip': 'https://cdn.jsdelivr.net/npm/jspanel4@4.12.0/dist/extensions/tooltip/jspanel.tooltip', 'jspanel-hint': 'https://cdn.jsdelivr.net/npm/jspanel4@4.12.0/dist/extensions/hint/jspanel.hint', 'jspanel-layout': 'https://cdn.jsdelivr.net/npm/jspanel4@4.12.0/dist/extensions/layout/jspanel.layout', 'jspanel-contextmenu': 'https://cdn.jsdelivr.net/npm/jspanel4@4.12.0/dist/extensions/contextmenu/jspanel.contextmenu', 'jspanel-dock': 'https://cdn.jsdelivr.net/npm/jspanel4@4.12.0/dist/extensions/dock/jspanel.dock', 'gridstack': 'https://cdn.jsdelivr.net/npm/gridstack@7.2.3/dist/gridstack-all', 'notyf': 'https://cdn.jsdelivr.net/npm/notyf@3/notyf.min'}, 'shim': {'jspanel': {'exports': 'jsPanel'}, 'gridstack': {'exports': 'GridStack'}}});\n      require([\"jspanel\"], function(jsPanel) {\n\twindow.jsPanel = jsPanel\n\ton_load()\n      })\n      require([\"jspanel-modal\"], function() {\n\ton_load()\n      })\n      require([\"jspanel-tooltip\"], function() {\n\ton_load()\n      })\n      require([\"jspanel-hint\"], function() {\n\ton_load()\n      })\n      require([\"jspanel-layout\"], function() {\n\ton_load()\n      })\n      require([\"jspanel-contextmenu\"], function() {\n\ton_load()\n      })\n      require([\"jspanel-dock\"], function() {\n\ton_load()\n      })\n      require([\"gridstack\"], function(GridStack) {\n\twindow.GridStack = GridStack\n\ton_load()\n      })\n      require([\"notyf\"], function() {\n\ton_load()\n      })\n      root._bokeh_is_loading = css_urls.length + 9;\n    } else {\n      root._bokeh_is_loading = css_urls.length + js_urls.length + js_modules.length + Object.keys(js_exports).length;\n    }\n\n    var existing_stylesheets = []\n    var links = document.getElementsByTagName('link')\n    for (var i = 0; i < links.length; i++) {\n      var link = links[i]\n      if (link.href != null) {\n\texisting_stylesheets.push(link.href)\n      }\n    }\n    for (var i = 0; i < css_urls.length; i++) {\n      var url = css_urls[i];\n      if (existing_stylesheets.indexOf(url) !== -1) {\n\ton_load()\n\tcontinue;\n      }\n      const element = document.createElement(\"link\");\n      element.onload = on_load;\n      element.onerror = on_error;\n      element.rel = \"stylesheet\";\n      element.type = \"text/css\";\n      element.href = url;\n      console.debug(\"Bokeh: injecting link tag for BokehJS stylesheet: \", url);\n      document.body.appendChild(element);\n    }    if (((window['jsPanel'] !== undefined) && (!(window['jsPanel'] instanceof HTMLElement))) || window.requirejs) {\n      var urls = ['https://cdn.holoviz.org/panel/1.3.1/dist/bundled/floatpanel/jspanel4@4.12.0/dist/jspanel.js', 'https://cdn.holoviz.org/panel/1.3.1/dist/bundled/floatpanel/jspanel4@4.12.0/dist/extensions/modal/jspanel.modal.js', 'https://cdn.holoviz.org/panel/1.3.1/dist/bundled/floatpanel/jspanel4@4.12.0/dist/extensions/tooltip/jspanel.tooltip.js', 'https://cdn.holoviz.org/panel/1.3.1/dist/bundled/floatpanel/jspanel4@4.12.0/dist/extensions/hint/jspanel.hint.js', 'https://cdn.holoviz.org/panel/1.3.1/dist/bundled/floatpanel/jspanel4@4.12.0/dist/extensions/layout/jspanel.layout.js', 'https://cdn.holoviz.org/panel/1.3.1/dist/bundled/floatpanel/jspanel4@4.12.0/dist/extensions/contextmenu/jspanel.contextmenu.js', 'https://cdn.holoviz.org/panel/1.3.1/dist/bundled/floatpanel/jspanel4@4.12.0/dist/extensions/dock/jspanel.dock.js'];\n      for (var i = 0; i < urls.length; i++) {\n        skip.push(urls[i])\n      }\n    }    if (((window['GridStack'] !== undefined) && (!(window['GridStack'] instanceof HTMLElement))) || window.requirejs) {\n      var urls = ['https://cdn.holoviz.org/panel/1.3.1/dist/bundled/gridstack/gridstack@7.2.3/dist/gridstack-all.js'];\n      for (var i = 0; i < urls.length; i++) {\n        skip.push(urls[i])\n      }\n    }    if (((window['Notyf'] !== undefined) && (!(window['Notyf'] instanceof HTMLElement))) || window.requirejs) {\n      var urls = ['https://cdn.holoviz.org/panel/1.3.1/dist/bundled/notificationarea/notyf@3/notyf.min.js'];\n      for (var i = 0; i < urls.length; i++) {\n        skip.push(urls[i])\n      }\n    }    var existing_scripts = []\n    var scripts = document.getElementsByTagName('script')\n    for (var i = 0; i < scripts.length; i++) {\n      var script = scripts[i]\n      if (script.src != null) {\n\texisting_scripts.push(script.src)\n      }\n    }\n    for (var i = 0; i < js_urls.length; i++) {\n      var url = js_urls[i];\n      if (skip.indexOf(url) !== -1 || existing_scripts.indexOf(url) !== -1) {\n\tif (!window.requirejs) {\n\t  on_load();\n\t}\n\tcontinue;\n      }\n      var element = document.createElement('script');\n      element.onload = on_load;\n      element.onerror = on_error;\n      element.async = false;\n      element.src = url;\n      console.debug(\"Bokeh: injecting script tag for BokehJS library: \", url);\n      document.head.appendChild(element);\n    }\n    for (var i = 0; i < js_modules.length; i++) {\n      var url = js_modules[i];\n      if (skip.indexOf(url) !== -1 || existing_scripts.indexOf(url) !== -1) {\n\tif (!window.requirejs) {\n\t  on_load();\n\t}\n\tcontinue;\n      }\n      var element = document.createElement('script');\n      element.onload = on_load;\n      element.onerror = on_error;\n      element.async = false;\n      element.src = url;\n      element.type = \"module\";\n      console.debug(\"Bokeh: injecting script tag for BokehJS library: \", url);\n      document.head.appendChild(element);\n    }\n    for (const name in js_exports) {\n      var url = js_exports[name];\n      if (skip.indexOf(url) >= 0 || root[name] != null) {\n\tif (!window.requirejs) {\n\t  on_load();\n\t}\n\tcontinue;\n      }\n      var element = document.createElement('script');\n      element.onerror = on_error;\n      element.async = false;\n      element.type = \"module\";\n      console.debug(\"Bokeh: injecting script tag for BokehJS library: \", url);\n      element.textContent = `\n      import ${name} from \"${url}\"\n      window.${name} = ${name}\n      window._bokeh_on_load()\n      `\n      document.head.appendChild(element);\n    }\n    if (!js_urls.length && !js_modules.length) {\n      on_load()\n    }\n  };\n\n  function inject_raw_css(css) {\n    const element = document.createElement(\"style\");\n    element.appendChild(document.createTextNode(css));\n    document.body.appendChild(element);\n  }\n\n  var js_urls = [\"https://cdn.bokeh.org/bokeh/release/bokeh-3.3.1.min.js\", \"https://cdn.bokeh.org/bokeh/release/bokeh-gl-3.3.1.min.js\", \"https://cdn.bokeh.org/bokeh/release/bokeh-widgets-3.3.1.min.js\", \"https://cdn.bokeh.org/bokeh/release/bokeh-tables-3.3.1.min.js\", \"https://cdn.holoviz.org/panel/1.3.1/dist/panel.min.js\"];\n  var js_modules = [];\n  var js_exports = {};\n  var css_urls = [];\n  var inline_js = [    function(Bokeh) {\n      Bokeh.set_log_level(\"info\");\n    },\nfunction(Bokeh) {} // ensure no trailing comma for IE\n  ];\n\n  function run_inline_js() {\n    if ((root.Bokeh !== undefined) || (force === true)) {\n      for (var i = 0; i < inline_js.length; i++) {\n        inline_js[i].call(root, root.Bokeh);\n      }\n      // Cache old bokeh versions\n      if (Bokeh != undefined && !reloading) {\n\tvar NewBokeh = root.Bokeh;\n\tif (Bokeh.versions === undefined) {\n\t  Bokeh.versions = new Map();\n\t}\n\tif (NewBokeh.version !== Bokeh.version) {\n\t  Bokeh.versions.set(NewBokeh.version, NewBokeh)\n\t}\n\troot.Bokeh = Bokeh;\n      }} else if (Date.now() < root._bokeh_timeout) {\n      setTimeout(run_inline_js, 100);\n    } else if (!root._bokeh_failed_load) {\n      console.log(\"Bokeh: BokehJS failed to load within specified timeout.\");\n      root._bokeh_failed_load = true;\n    }\n    root._bokeh_is_initializing = false\n  }\n\n  function load_or_wait() {\n    // Implement a backoff loop that tries to ensure we do not load multiple\n    // versions of Bokeh and its dependencies at the same time.\n    // In recent versions we use the root._bokeh_is_initializing flag\n    // to determine whether there is an ongoing attempt to initialize\n    // bokeh, however for backward compatibility we also try to ensure\n    // that we do not start loading a newer (Panel>=1.0 and Bokeh>3) version\n    // before older versions are fully initialized.\n    if (root._bokeh_is_initializing && Date.now() > root._bokeh_timeout) {\n      root._bokeh_is_initializing = false;\n      root._bokeh_onload_callbacks = undefined;\n      console.log(\"Bokeh: BokehJS was loaded multiple times but one version failed to initialize.\");\n      load_or_wait();\n    } else if (root._bokeh_is_initializing || (typeof root._bokeh_is_initializing === \"undefined\" && root._bokeh_onload_callbacks !== undefined)) {\n      setTimeout(load_or_wait, 100);\n    } else {\n      Bokeh = root.Bokeh;\n      bokeh_loaded = Bokeh != null && (Bokeh.version === py_version || (Bokeh.versions !== undefined && Bokeh.versions.has(py_version)));\n      root._bokeh_is_initializing = true\n      root._bokeh_onload_callbacks = []\n      if (!reloading && (!bokeh_loaded || is_dev)) {\n\troot.Bokeh = undefined;\n      }\n      load_libs(css_urls, js_urls, js_modules, js_exports, function() {\n\tconsole.debug(\"Bokeh: BokehJS plotting callback run at\", now());\n\trun_inline_js();\n      });\n    }\n  }\n  // Give older versions of the autoload script a head-start to ensure\n  // they initialize before we start loading newer version.\n  setTimeout(load_or_wait, 100)\n}(window));",
      "application/vnd.holoviews_load.v0+json": ""
     },
     "metadata": {},
     "output_type": "display_data"
    },
    {
     "data": {
      "application/javascript": "\nif ((window.PyViz === undefined) || (window.PyViz instanceof HTMLElement)) {\n  window.PyViz = {comms: {}, comm_status:{}, kernels:{}, receivers: {}, plot_index: []}\n}\n\n\n    function JupyterCommManager() {\n    }\n\n    JupyterCommManager.prototype.register_target = function(plot_id, comm_id, msg_handler) {\n      if (window.comm_manager || ((window.Jupyter !== undefined) && (Jupyter.notebook.kernel != null))) {\n        var comm_manager = window.comm_manager || Jupyter.notebook.kernel.comm_manager;\n        comm_manager.register_target(comm_id, function(comm) {\n          comm.on_msg(msg_handler);\n        });\n      } else if ((plot_id in window.PyViz.kernels) && (window.PyViz.kernels[plot_id])) {\n        window.PyViz.kernels[plot_id].registerCommTarget(comm_id, function(comm) {\n          comm.onMsg = msg_handler;\n        });\n      } else if (typeof google != 'undefined' && google.colab.kernel != null) {\n        google.colab.kernel.comms.registerTarget(comm_id, (comm) => {\n          var messages = comm.messages[Symbol.asyncIterator]();\n          function processIteratorResult(result) {\n            var message = result.value;\n            console.log(message)\n            var content = {data: message.data, comm_id};\n            var buffers = []\n            for (var buffer of message.buffers || []) {\n              buffers.push(new DataView(buffer))\n            }\n            var metadata = message.metadata || {};\n            var msg = {content, buffers, metadata}\n            msg_handler(msg);\n            return messages.next().then(processIteratorResult);\n          }\n          return messages.next().then(processIteratorResult);\n        })\n      }\n    }\n\n    JupyterCommManager.prototype.get_client_comm = function(plot_id, comm_id, msg_handler) {\n      if (comm_id in window.PyViz.comms) {\n        return window.PyViz.comms[comm_id];\n      } else if (window.comm_manager || ((window.Jupyter !== undefined) && (Jupyter.notebook.kernel != null))) {\n        var comm_manager = window.comm_manager || Jupyter.notebook.kernel.comm_manager;\n        var comm = comm_manager.new_comm(comm_id, {}, {}, {}, comm_id);\n        if (msg_handler) {\n          comm.on_msg(msg_handler);\n        }\n      } else if ((plot_id in window.PyViz.kernels) && (window.PyViz.kernels[plot_id])) {\n        var comm = window.PyViz.kernels[plot_id].connectToComm(comm_id);\n        comm.open();\n        if (msg_handler) {\n          comm.onMsg = msg_handler;\n        }\n      } else if (typeof google != 'undefined' && google.colab.kernel != null) {\n        var comm_promise = google.colab.kernel.comms.open(comm_id)\n        comm_promise.then((comm) => {\n          window.PyViz.comms[comm_id] = comm;\n          if (msg_handler) {\n            var messages = comm.messages[Symbol.asyncIterator]();\n            function processIteratorResult(result) {\n              var message = result.value;\n              var content = {data: message.data};\n              var metadata = message.metadata || {comm_id};\n              var msg = {content, metadata}\n              msg_handler(msg);\n              return messages.next().then(processIteratorResult);\n            }\n            return messages.next().then(processIteratorResult);\n          }\n        }) \n        var sendClosure = (data, metadata, buffers, disposeOnDone) => {\n          return comm_promise.then((comm) => {\n            comm.send(data, metadata, buffers, disposeOnDone);\n          });\n        };\n        var comm = {\n          send: sendClosure\n        };\n      }\n      window.PyViz.comms[comm_id] = comm;\n      return comm;\n    }\n    window.PyViz.comm_manager = new JupyterCommManager();\n    \n\n\nvar JS_MIME_TYPE = 'application/javascript';\nvar HTML_MIME_TYPE = 'text/html';\nvar EXEC_MIME_TYPE = 'application/vnd.holoviews_exec.v0+json';\nvar CLASS_NAME = 'output';\n\n/**\n * Render data to the DOM node\n */\nfunction render(props, node) {\n  var div = document.createElement(\"div\");\n  var script = document.createElement(\"script\");\n  node.appendChild(div);\n  node.appendChild(script);\n}\n\n/**\n * Handle when a new output is added\n */\nfunction handle_add_output(event, handle) {\n  var output_area = handle.output_area;\n  var output = handle.output;\n  if ((output.data == undefined) || (!output.data.hasOwnProperty(EXEC_MIME_TYPE))) {\n    return\n  }\n  var id = output.metadata[EXEC_MIME_TYPE][\"id\"];\n  var toinsert = output_area.element.find(\".\" + CLASS_NAME.split(' ')[0]);\n  if (id !== undefined) {\n    var nchildren = toinsert.length;\n    var html_node = toinsert[nchildren-1].children[0];\n    html_node.innerHTML = output.data[HTML_MIME_TYPE];\n    var scripts = [];\n    var nodelist = html_node.querySelectorAll(\"script\");\n    for (var i in nodelist) {\n      if (nodelist.hasOwnProperty(i)) {\n        scripts.push(nodelist[i])\n      }\n    }\n\n    scripts.forEach( function (oldScript) {\n      var newScript = document.createElement(\"script\");\n      var attrs = [];\n      var nodemap = oldScript.attributes;\n      for (var j in nodemap) {\n        if (nodemap.hasOwnProperty(j)) {\n          attrs.push(nodemap[j])\n        }\n      }\n      attrs.forEach(function(attr) { newScript.setAttribute(attr.name, attr.value) });\n      newScript.appendChild(document.createTextNode(oldScript.innerHTML));\n      oldScript.parentNode.replaceChild(newScript, oldScript);\n    });\n    if (JS_MIME_TYPE in output.data) {\n      toinsert[nchildren-1].children[1].textContent = output.data[JS_MIME_TYPE];\n    }\n    output_area._hv_plot_id = id;\n    if ((window.Bokeh !== undefined) && (id in Bokeh.index)) {\n      window.PyViz.plot_index[id] = Bokeh.index[id];\n    } else {\n      window.PyViz.plot_index[id] = null;\n    }\n  } else if (output.metadata[EXEC_MIME_TYPE][\"server_id\"] !== undefined) {\n    var bk_div = document.createElement(\"div\");\n    bk_div.innerHTML = output.data[HTML_MIME_TYPE];\n    var script_attrs = bk_div.children[0].attributes;\n    for (var i = 0; i < script_attrs.length; i++) {\n      toinsert[toinsert.length - 1].childNodes[1].setAttribute(script_attrs[i].name, script_attrs[i].value);\n    }\n    // store reference to server id on output_area\n    output_area._bokeh_server_id = output.metadata[EXEC_MIME_TYPE][\"server_id\"];\n  }\n}\n\n/**\n * Handle when an output is cleared or removed\n */\nfunction handle_clear_output(event, handle) {\n  var id = handle.cell.output_area._hv_plot_id;\n  var server_id = handle.cell.output_area._bokeh_server_id;\n  if (((id === undefined) || !(id in PyViz.plot_index)) && (server_id !== undefined)) { return; }\n  var comm = window.PyViz.comm_manager.get_client_comm(\"hv-extension-comm\", \"hv-extension-comm\", function () {});\n  if (server_id !== null) {\n    comm.send({event_type: 'server_delete', 'id': server_id});\n    return;\n  } else if (comm !== null) {\n    comm.send({event_type: 'delete', 'id': id});\n  }\n  delete PyViz.plot_index[id];\n  if ((window.Bokeh !== undefined) & (id in window.Bokeh.index)) {\n    var doc = window.Bokeh.index[id].model.document\n    doc.clear();\n    const i = window.Bokeh.documents.indexOf(doc);\n    if (i > -1) {\n      window.Bokeh.documents.splice(i, 1);\n    }\n  }\n}\n\n/**\n * Handle kernel restart event\n */\nfunction handle_kernel_cleanup(event, handle) {\n  delete PyViz.comms[\"hv-extension-comm\"];\n  window.PyViz.plot_index = {}\n}\n\n/**\n * Handle update_display_data messages\n */\nfunction handle_update_output(event, handle) {\n  handle_clear_output(event, {cell: {output_area: handle.output_area}})\n  handle_add_output(event, handle)\n}\n\nfunction register_renderer(events, OutputArea) {\n  function append_mime(data, metadata, element) {\n    // create a DOM node to render to\n    var toinsert = this.create_output_subarea(\n    metadata,\n    CLASS_NAME,\n    EXEC_MIME_TYPE\n    );\n    this.keyboard_manager.register_events(toinsert);\n    // Render to node\n    var props = {data: data, metadata: metadata[EXEC_MIME_TYPE]};\n    render(props, toinsert[0]);\n    element.append(toinsert);\n    return toinsert\n  }\n\n  events.on('output_added.OutputArea', handle_add_output);\n  events.on('output_updated.OutputArea', handle_update_output);\n  events.on('clear_output.CodeCell', handle_clear_output);\n  events.on('delete.Cell', handle_clear_output);\n  events.on('kernel_ready.Kernel', handle_kernel_cleanup);\n\n  OutputArea.prototype.register_mime_type(EXEC_MIME_TYPE, append_mime, {\n    safe: true,\n    index: 0\n  });\n}\n\nif (window.Jupyter !== undefined) {\n  try {\n    var events = require('base/js/events');\n    var OutputArea = require('notebook/js/outputarea').OutputArea;\n    if (OutputArea.prototype.mime_types().indexOf(EXEC_MIME_TYPE) == -1) {\n      register_renderer(events, OutputArea);\n    }\n  } catch(err) {\n  }\n}\n",
      "application/vnd.holoviews_load.v0+json": ""
     },
     "metadata": {},
     "output_type": "display_data"
    },
    {
     "data": {
      "text/html": [
       "<style>*[data-root-id],\n",
       "*[data-root-id] > * {\n",
       "  box-sizing: border-box;\n",
       "  font-family: var(--jp-ui-font-family);\n",
       "  font-size: var(--jp-ui-font-size1);\n",
       "  color: var(--vscode-editor-foreground, var(--jp-ui-font-color1));\n",
       "}\n",
       "\n",
       "/* Override VSCode background color */\n",
       ".cell-output-ipywidget-background:has(\n",
       "    > .cell-output-ipywidget-background > .lm-Widget > *[data-root-id]\n",
       "  ),\n",
       ".cell-output-ipywidget-background:has(> .lm-Widget > *[data-root-id]) {\n",
       "  background-color: transparent !important;\n",
       "}\n",
       "</style>"
      ]
     },
     "metadata": {},
     "output_type": "display_data"
    },
    {
     "data": {
      "application/vnd.holoviews_exec.v0+json": "",
      "text/html": [
       "<div id='p1002'>\n",
       "  <div id=\"c87647b9-f357-42e5-a341-402a8f716599\" data-root-id=\"p1002\" style=\"display: contents;\"></div>\n",
       "</div>\n",
       "<script type=\"application/javascript\">(function(root) {\n",
       "  var docs_json = {\"cf299320-1cc7-41ff-80a1-9f32b4c23921\":{\"version\":\"3.3.1\",\"title\":\"Bokeh Application\",\"roots\":[{\"type\":\"object\",\"name\":\"panel.models.browser.BrowserInfo\",\"id\":\"p1002\"},{\"type\":\"object\",\"name\":\"panel.models.comm_manager.CommManager\",\"id\":\"p1003\",\"attributes\":{\"plot_id\":\"p1002\",\"comm_id\":\"2e11e14c3950462f9667c59282dd0dbd\",\"client_comm_id\":\"11ee388ec3824c93a360194d0c403634\"}}],\"defs\":[{\"type\":\"model\",\"name\":\"ReactiveHTML1\"},{\"type\":\"model\",\"name\":\"FlexBox1\",\"properties\":[{\"name\":\"align_content\",\"kind\":\"Any\",\"default\":\"flex-start\"},{\"name\":\"align_items\",\"kind\":\"Any\",\"default\":\"flex-start\"},{\"name\":\"flex_direction\",\"kind\":\"Any\",\"default\":\"row\"},{\"name\":\"flex_wrap\",\"kind\":\"Any\",\"default\":\"wrap\"},{\"name\":\"justify_content\",\"kind\":\"Any\",\"default\":\"flex-start\"}]},{\"type\":\"model\",\"name\":\"FloatPanel1\",\"properties\":[{\"name\":\"config\",\"kind\":\"Any\",\"default\":{\"type\":\"map\"}},{\"name\":\"contained\",\"kind\":\"Any\",\"default\":true},{\"name\":\"position\",\"kind\":\"Any\",\"default\":\"right-top\"},{\"name\":\"offsetx\",\"kind\":\"Any\",\"default\":null},{\"name\":\"offsety\",\"kind\":\"Any\",\"default\":null},{\"name\":\"theme\",\"kind\":\"Any\",\"default\":\"primary\"},{\"name\":\"status\",\"kind\":\"Any\",\"default\":\"normalized\"}]},{\"type\":\"model\",\"name\":\"GridStack1\",\"properties\":[{\"name\":\"mode\",\"kind\":\"Any\",\"default\":\"warn\"},{\"name\":\"ncols\",\"kind\":\"Any\",\"default\":null},{\"name\":\"nrows\",\"kind\":\"Any\",\"default\":null},{\"name\":\"allow_resize\",\"kind\":\"Any\",\"default\":true},{\"name\":\"allow_drag\",\"kind\":\"Any\",\"default\":true},{\"name\":\"state\",\"kind\":\"Any\",\"default\":[]}]},{\"type\":\"model\",\"name\":\"drag1\",\"properties\":[{\"name\":\"slider_width\",\"kind\":\"Any\",\"default\":5},{\"name\":\"slider_color\",\"kind\":\"Any\",\"default\":\"black\"},{\"name\":\"value\",\"kind\":\"Any\",\"default\":50}]},{\"type\":\"model\",\"name\":\"click1\",\"properties\":[{\"name\":\"terminal_output\",\"kind\":\"Any\",\"default\":\"\"},{\"name\":\"debug_name\",\"kind\":\"Any\",\"default\":\"\"},{\"name\":\"clears\",\"kind\":\"Any\",\"default\":0}]},{\"type\":\"model\",\"name\":\"toggle_value1\",\"properties\":[{\"name\":\"active_icons\",\"kind\":\"Any\",\"default\":{\"type\":\"map\"}},{\"name\":\"options\",\"kind\":\"Any\",\"default\":{\"type\":\"map\",\"entries\":[[\"favorite\",\"heart\"]]}},{\"name\":\"value\",\"kind\":\"Any\",\"default\":[]},{\"name\":\"_reactions\",\"kind\":\"Any\",\"default\":[]},{\"name\":\"_base_url\",\"kind\":\"Any\",\"default\":\"https://tabler-icons.io/static/tabler-icons/icons/\"}]},{\"type\":\"model\",\"name\":\"copy_to_clipboard1\",\"properties\":[{\"name\":\"value\",\"kind\":\"Any\",\"default\":null},{\"name\":\"fill\",\"kind\":\"Any\",\"default\":\"none\"}]},{\"type\":\"model\",\"name\":\"FastWrapper1\",\"properties\":[{\"name\":\"object\",\"kind\":\"Any\",\"default\":null},{\"name\":\"style\",\"kind\":\"Any\",\"default\":null}]},{\"type\":\"model\",\"name\":\"NotificationAreaBase1\",\"properties\":[{\"name\":\"js_events\",\"kind\":\"Any\",\"default\":{\"type\":\"map\"}},{\"name\":\"position\",\"kind\":\"Any\",\"default\":\"bottom-right\"},{\"name\":\"_clear\",\"kind\":\"Any\",\"default\":0}]},{\"type\":\"model\",\"name\":\"NotificationArea1\",\"properties\":[{\"name\":\"js_events\",\"kind\":\"Any\",\"default\":{\"type\":\"map\"}},{\"name\":\"notifications\",\"kind\":\"Any\",\"default\":[]},{\"name\":\"position\",\"kind\":\"Any\",\"default\":\"bottom-right\"},{\"name\":\"_clear\",\"kind\":\"Any\",\"default\":0},{\"name\":\"types\",\"kind\":\"Any\",\"default\":[{\"type\":\"map\",\"entries\":[[\"type\",\"warning\"],[\"background\",\"#ffc107\"],[\"icon\",{\"type\":\"map\",\"entries\":[[\"className\",\"fas fa-exclamation-triangle\"],[\"tagName\",\"i\"],[\"color\",\"white\"]]}]]},{\"type\":\"map\",\"entries\":[[\"type\",\"info\"],[\"background\",\"#007bff\"],[\"icon\",{\"type\":\"map\",\"entries\":[[\"className\",\"fas fa-info-circle\"],[\"tagName\",\"i\"],[\"color\",\"white\"]]}]]}]}]},{\"type\":\"model\",\"name\":\"Notification\",\"properties\":[{\"name\":\"background\",\"kind\":\"Any\",\"default\":null},{\"name\":\"duration\",\"kind\":\"Any\",\"default\":3000},{\"name\":\"icon\",\"kind\":\"Any\",\"default\":null},{\"name\":\"message\",\"kind\":\"Any\",\"default\":\"\"},{\"name\":\"notification_type\",\"kind\":\"Any\",\"default\":null},{\"name\":\"_destroyed\",\"kind\":\"Any\",\"default\":false}]},{\"type\":\"model\",\"name\":\"TemplateActions1\",\"properties\":[{\"name\":\"open_modal\",\"kind\":\"Any\",\"default\":0},{\"name\":\"close_modal\",\"kind\":\"Any\",\"default\":0}]},{\"type\":\"model\",\"name\":\"BootstrapTemplateActions1\",\"properties\":[{\"name\":\"open_modal\",\"kind\":\"Any\",\"default\":0},{\"name\":\"close_modal\",\"kind\":\"Any\",\"default\":0}]},{\"type\":\"model\",\"name\":\"MaterialTemplateActions1\",\"properties\":[{\"name\":\"open_modal\",\"kind\":\"Any\",\"default\":0},{\"name\":\"close_modal\",\"kind\":\"Any\",\"default\":0}]}]}};\n",
       "  var render_items = [{\"docid\":\"cf299320-1cc7-41ff-80a1-9f32b4c23921\",\"roots\":{\"p1002\":\"c87647b9-f357-42e5-a341-402a8f716599\"},\"root_ids\":[\"p1002\"]}];\n",
       "  var docs = Object.values(docs_json)\n",
       "  if (!docs) {\n",
       "    return\n",
       "  }\n",
       "  const py_version = docs[0].version.replace('rc', '-rc.').replace('.dev', '-dev.')\n",
       "  const is_dev = py_version.indexOf(\"+\") !== -1 || py_version.indexOf(\"-\") !== -1\n",
       "  function embed_document(root) {\n",
       "    var Bokeh = get_bokeh(root)\n",
       "    Bokeh.embed.embed_items_notebook(docs_json, render_items);\n",
       "    for (const render_item of render_items) {\n",
       "      for (const root_id of render_item.root_ids) {\n",
       "\tconst id_el = document.getElementById(root_id)\n",
       "\tif (id_el.children.length && (id_el.children[0].className === 'bk-root')) {\n",
       "\t  const root_el = id_el.children[0]\n",
       "\t  root_el.id = root_el.id + '-rendered'\n",
       "\t}\n",
       "      }\n",
       "    }\n",
       "  }\n",
       "  function get_bokeh(root) {\n",
       "    if (root.Bokeh === undefined) {\n",
       "      return null\n",
       "    } else if (root.Bokeh.version !== py_version && !is_dev) {\n",
       "      if (root.Bokeh.versions === undefined || !root.Bokeh.versions.has(py_version)) {\n",
       "\treturn null\n",
       "      }\n",
       "      return root.Bokeh.versions.get(py_version);\n",
       "    } else if (root.Bokeh.version === py_version) {\n",
       "      return root.Bokeh\n",
       "    }\n",
       "    return null\n",
       "  }\n",
       "  function is_loaded(root) {\n",
       "    var Bokeh = get_bokeh(root)\n",
       "    return (Bokeh != null && Bokeh.Panel !== undefined)\n",
       "  }\n",
       "  if (is_loaded(root)) {\n",
       "    embed_document(root);\n",
       "  } else {\n",
       "    var attempts = 0;\n",
       "    var timer = setInterval(function(root) {\n",
       "      if (is_loaded(root)) {\n",
       "        clearInterval(timer);\n",
       "        embed_document(root);\n",
       "      } else if (document.readyState == \"complete\") {\n",
       "        attempts++;\n",
       "        if (attempts > 200) {\n",
       "          clearInterval(timer);\n",
       "\t  var Bokeh = get_bokeh(root)\n",
       "\t  if (Bokeh == null || Bokeh.Panel == null) {\n",
       "            console.warn(\"Panel: ERROR: Unable to run Panel code because Bokeh or Panel library is missing\");\n",
       "\t  } else {\n",
       "\t    console.warn(\"Panel: WARNING: Attempting to render but not all required libraries could be resolved.\")\n",
       "\t    embed_document(root)\n",
       "\t  }\n",
       "        }\n",
       "      }\n",
       "    }, 25, root)\n",
       "  }\n",
       "})(window);</script>"
      ]
     },
     "metadata": {
      "application/vnd.holoviews_exec.v0+json": {
       "id": "p1002"
      }
     },
     "output_type": "display_data"
    }
   ],
   "source": [
    "import pubmed_tool"
   ]
  },
  {
   "cell_type": "markdown",
   "metadata": {},
   "source": [
    "## Main Functions"
   ]
  },
  {
   "cell_type": "markdown",
   "metadata": {},
   "source": [
    "### Scraping PubMed with `pubmed_tool.scraper()`"
   ]
  },
  {
   "cell_type": "markdown",
   "metadata": {},
   "source": [
    "#### Basic Scrape"
   ]
  },
  {
   "cell_type": "markdown",
   "metadata": {},
   "source": [
    "For this demonstration, we queried PubMed for the records that contained our keyword 'HIV', published between January 1 and August 30 of 2020. We exported our results to `'demo_data.csv'`, and returned the data set for examination in this notebook.\n",
    "\n",
    "Input is used to capture an email address, as all users should input their own email address for Entrez query logging."
   ]
  },
  {
   "cell_type": "code",
   "execution_count": 3,
   "metadata": {},
   "outputs": [
    {
     "name": "stderr",
     "output_type": "stream",
     "text": [
      "2023-12-05 21:06:10 - INFO: ['No project directory given. Directory set to the current working directory.']\n",
      "2023-12-05 21:06:10 - INFO: Initiating PubMed search.\n",
      " \tQuery: (hiv) AND (\"2020/01/01\"[Date - Publication] : \"2020/08/30\"[Date - Publication])\n",
      " \tEntrez email: morrigan.mahady@uth.tmc.edu\n",
      " \tMax returns: 200000\n",
      "2023-12-05 21:06:11 - INFO: Search Successful! Obtained 9999 PMID(s).\n",
      "2023-12-05 21:06:11 - INFO: Initiating PubMed search. Requesting article records for 9999 PMID(s)\n",
      "2023-12-05 21:07:33 - INFO: Search Successful! Obtained records for  9984 PMID(s).\n",
      "2023-12-05 21:07:35 - INFO: Success! \n",
      " 9999 records for PubMed Search: \n",
      "(hiv) AND (\"2020/01/01\"[Date - Publication] : \"2020/08/30\"[Date - Publication]) \n",
      " processed and written to c:\\Users\\morri\\Documents\\demo\\demo_data.csv\n"
     ]
    }
   ],
   "source": [
    "records = pubmed_tool.scraper(keyword = 'hiv', \n",
    "                              start_date = '2020/01/01', \n",
    "                              end_date = '2020/08/30',\n",
    "                              email = input('email:').lower().strip(),\n",
    "                              path = 'demo_data.csv',\n",
    "                              return_df = True)"
   ]
  },
  {
   "cell_type": "markdown",
   "metadata": {},
   "source": [
    "As we can see, our function gave us informative logs. Our search found 9,999 possible PubMed IDs that matched our query out of 200,000 possible maximum records. However, only 9,984 had records. "
   ]
  },
  {
   "cell_type": "markdown",
   "metadata": {},
   "source": [
    "When we inspect the shape of the record data frame, we find that we have 9,984 rows and 14 columns, which is what we expected based on our logs."
   ]
  },
  {
   "cell_type": "code",
   "execution_count": 4,
   "metadata": {},
   "outputs": [
    {
     "data": {
      "text/plain": [
       "(9984, 14)"
      ]
     },
     "execution_count": 4,
     "metadata": {},
     "output_type": "execute_result"
    }
   ],
   "source": [
    "records.shape"
   ]
  },
  {
   "cell_type": "markdown",
   "metadata": {},
   "source": [
    "We inspect our 14 columns. We find our expected results: `title`, `pubdate`, `authors`, `keywords`, `journal`, `isoabbrev`, `volume`, `issue`, `page_start`, `page_end`, `language`, `abstract`, `other_type`, and `other_val`. These correspond to the Article Title, Date of Publication, Author List, Keyword List, Journal Name, Journal ISO Abbreviation, Volume, Issue, Start Page, End Page, List of Languages, Abstract, and Other information that was stored in Volume or Issue fields such as 'Part' or 'Special No.'.\n",
    "\n",
    "We find that `pubdate`, the date of publication, is appropriately stored as a datetime object."
   ]
  },
  {
   "cell_type": "code",
   "execution_count": 5,
   "metadata": {},
   "outputs": [
    {
     "data": {
      "text/plain": [
       "title                 object\n",
       "pubdate       datetime64[ns]\n",
       "authors               object\n",
       "keywords              object\n",
       "journal               object\n",
       "isoabbrev             object\n",
       "volume               float64\n",
       "issue                float64\n",
       "page_start            object\n",
       "page_end              object\n",
       "language              object\n",
       "abstract              object\n",
       "other_type            object\n",
       "other_val             object\n",
       "dtype: object"
      ]
     },
     "execution_count": 5,
     "metadata": {},
     "output_type": "execute_result"
    }
   ],
   "source": [
    "records.dtypes"
   ]
  },
  {
   "cell_type": "markdown",
   "metadata": {},
   "source": [
    "By inspecting the first five records in our results, we find that `pmid` serves as our index. All content appears as expected. `authors` is stored as a dictionary, which will be used in later processing."
   ]
  },
  {
   "cell_type": "code",
   "execution_count": 6,
   "metadata": {},
   "outputs": [
    {
     "data": {
      "text/html": [
       "<div>\n",
       "<style scoped>\n",
       "    .dataframe tbody tr th:only-of-type {\n",
       "        vertical-align: middle;\n",
       "    }\n",
       "\n",
       "    .dataframe tbody tr th {\n",
       "        vertical-align: top;\n",
       "    }\n",
       "\n",
       "    .dataframe thead th {\n",
       "        text-align: right;\n",
       "    }\n",
       "</style>\n",
       "<table border=\"1\" class=\"dataframe\">\n",
       "  <thead>\n",
       "    <tr style=\"text-align: right;\">\n",
       "      <th></th>\n",
       "      <th>title</th>\n",
       "      <th>pubdate</th>\n",
       "      <th>authors</th>\n",
       "      <th>keywords</th>\n",
       "      <th>journal</th>\n",
       "      <th>isoabbrev</th>\n",
       "      <th>volume</th>\n",
       "      <th>issue</th>\n",
       "      <th>page_start</th>\n",
       "      <th>page_end</th>\n",
       "      <th>language</th>\n",
       "      <th>abstract</th>\n",
       "      <th>other_type</th>\n",
       "      <th>other_val</th>\n",
       "    </tr>\n",
       "    <tr>\n",
       "      <th>pmid</th>\n",
       "      <th></th>\n",
       "      <th></th>\n",
       "      <th></th>\n",
       "      <th></th>\n",
       "      <th></th>\n",
       "      <th></th>\n",
       "      <th></th>\n",
       "      <th></th>\n",
       "      <th></th>\n",
       "      <th></th>\n",
       "      <th></th>\n",
       "      <th></th>\n",
       "      <th></th>\n",
       "      <th></th>\n",
       "    </tr>\n",
       "  </thead>\n",
       "  <tbody>\n",
       "    <tr>\n",
       "      <th>33193428</th>\n",
       "      <td>major scientific hurdles in hiv vaccine develo...</td>\n",
       "      <td>2020-01-01</td>\n",
       "      <td>[{'order': '1', 'first': 'tiza', 'last': 'ng'u...</td>\n",
       "      <td>[history of hiv-1 vaccines, hiv, hiv-1 vaccine...</td>\n",
       "      <td>frontiers in immunology</td>\n",
       "      <td>front immunol</td>\n",
       "      <td>11.0</td>\n",
       "      <td>NaN</td>\n",
       "      <td>590780</td>\n",
       "      <td>590780</td>\n",
       "      <td>[eng]</td>\n",
       "      <td>Following the discovery of HIV as a causative ...</td>\n",
       "      <td>None</td>\n",
       "      <td>None</td>\n",
       "    </tr>\n",
       "    <tr>\n",
       "      <th>32692406</th>\n",
       "      <td>hiv/sars-cov-2 coinfection: a global perspective.</td>\n",
       "      <td>2021-02-01</td>\n",
       "      <td>[{'order': '1', 'first': 'osman', 'last': 'kan...</td>\n",
       "      <td>[hiv, covid-19, antiretroviral therapy/coinfec...</td>\n",
       "      <td>journal of medical virology</td>\n",
       "      <td>j med virol</td>\n",
       "      <td>93.0</td>\n",
       "      <td>2.0</td>\n",
       "      <td>726</td>\n",
       "      <td>732</td>\n",
       "      <td>[eng]</td>\n",
       "      <td>Since its first appearance in Wuhan, China, se...</td>\n",
       "      <td>None</td>\n",
       "      <td>None</td>\n",
       "    </tr>\n",
       "    <tr>\n",
       "      <th>31936859</th>\n",
       "      <td>block-and-lock strategies to cure hiv infection.</td>\n",
       "      <td>2020-01-01</td>\n",
       "      <td>[{'order': '1', 'first': 'gerlinde', 'last': '...</td>\n",
       "      <td>[hiv, latency, block-and-lock, cure]</td>\n",
       "      <td>viruses</td>\n",
       "      <td>viruses</td>\n",
       "      <td>12.0</td>\n",
       "      <td>1.0</td>\n",
       "      <td>None</td>\n",
       "      <td>None</td>\n",
       "      <td>[eng]</td>\n",
       "      <td>Today HIV infection cannot be cured due to the...</td>\n",
       "      <td>None</td>\n",
       "      <td>None</td>\n",
       "    </tr>\n",
       "    <tr>\n",
       "      <th>32066532</th>\n",
       "      <td>hiv transmission and source-sink dynamics in s...</td>\n",
       "      <td>2020-03-01</td>\n",
       "      <td>[{'order': '1', 'first': 'justin', 'last': 'ok...</td>\n",
       "      <td>None</td>\n",
       "      <td>the lancet. hiv</td>\n",
       "      <td>lancet hiv</td>\n",
       "      <td>7.0</td>\n",
       "      <td>3.0</td>\n",
       "      <td>e209</td>\n",
       "      <td>e214</td>\n",
       "      <td>[eng]</td>\n",
       "      <td>Multiple phylogenetic studies of HIV in sub-Sa...</td>\n",
       "      <td>None</td>\n",
       "      <td>None</td>\n",
       "    </tr>\n",
       "    <tr>\n",
       "      <th>32612233</th>\n",
       "      <td>clinical targeting of hiv capsid protein with ...</td>\n",
       "      <td>2020-08-01</td>\n",
       "      <td>[{'order': '1', 'first': 'john', 'last': 'link...</td>\n",
       "      <td>None</td>\n",
       "      <td>nature</td>\n",
       "      <td>nature</td>\n",
       "      <td>584.0</td>\n",
       "      <td>7822.0</td>\n",
       "      <td>614</td>\n",
       "      <td>618</td>\n",
       "      <td>[eng]</td>\n",
       "      <td>Oral antiretroviral agents provide life-saving...</td>\n",
       "      <td>None</td>\n",
       "      <td>None</td>\n",
       "    </tr>\n",
       "  </tbody>\n",
       "</table>\n",
       "</div>"
      ],
      "text/plain": [
       "                                                      title    pubdate  \\\n",
       "pmid                                                                     \n",
       "33193428  major scientific hurdles in hiv vaccine develo... 2020-01-01   \n",
       "32692406  hiv/sars-cov-2 coinfection: a global perspective. 2021-02-01   \n",
       "31936859   block-and-lock strategies to cure hiv infection. 2020-01-01   \n",
       "32066532  hiv transmission and source-sink dynamics in s... 2020-03-01   \n",
       "32612233  clinical targeting of hiv capsid protein with ... 2020-08-01   \n",
       "\n",
       "                                                    authors  \\\n",
       "pmid                                                          \n",
       "33193428  [{'order': '1', 'first': 'tiza', 'last': 'ng'u...   \n",
       "32692406  [{'order': '1', 'first': 'osman', 'last': 'kan...   \n",
       "31936859  [{'order': '1', 'first': 'gerlinde', 'last': '...   \n",
       "32066532  [{'order': '1', 'first': 'justin', 'last': 'ok...   \n",
       "32612233  [{'order': '1', 'first': 'john', 'last': 'link...   \n",
       "\n",
       "                                                   keywords  \\\n",
       "pmid                                                          \n",
       "33193428  [history of hiv-1 vaccines, hiv, hiv-1 vaccine...   \n",
       "32692406  [hiv, covid-19, antiretroviral therapy/coinfec...   \n",
       "31936859               [hiv, latency, block-and-lock, cure]   \n",
       "32066532                                               None   \n",
       "32612233                                               None   \n",
       "\n",
       "                              journal      isoabbrev  volume   issue  \\\n",
       "pmid                                                                   \n",
       "33193428      frontiers in immunology  front immunol    11.0     NaN   \n",
       "32692406  journal of medical virology    j med virol    93.0     2.0   \n",
       "31936859                      viruses        viruses    12.0     1.0   \n",
       "32066532              the lancet. hiv     lancet hiv     7.0     3.0   \n",
       "32612233                       nature         nature   584.0  7822.0   \n",
       "\n",
       "         page_start page_end language  \\\n",
       "pmid                                    \n",
       "33193428     590780   590780    [eng]   \n",
       "32692406        726      732    [eng]   \n",
       "31936859       None     None    [eng]   \n",
       "32066532       e209     e214    [eng]   \n",
       "32612233        614      618    [eng]   \n",
       "\n",
       "                                                   abstract other_type  \\\n",
       "pmid                                                                     \n",
       "33193428  Following the discovery of HIV as a causative ...       None   \n",
       "32692406  Since its first appearance in Wuhan, China, se...       None   \n",
       "31936859  Today HIV infection cannot be cured due to the...       None   \n",
       "32066532  Multiple phylogenetic studies of HIV in sub-Sa...       None   \n",
       "32612233  Oral antiretroviral agents provide life-saving...       None   \n",
       "\n",
       "         other_val  \n",
       "pmid                \n",
       "33193428      None  \n",
       "32692406      None  \n",
       "31936859      None  \n",
       "32066532      None  \n",
       "32612233      None  "
      ]
     },
     "execution_count": 6,
     "metadata": {},
     "output_type": "execute_result"
    }
   ],
   "source": [
    "records.head()"
   ]
  },
  {
   "cell_type": "markdown",
   "metadata": {},
   "source": [
    "For our final check of the returned data frame, we verify that each PMID is, in fact, unique."
   ]
  },
  {
   "cell_type": "code",
   "execution_count": 7,
   "metadata": {},
   "outputs": [
    {
     "data": {
      "text/plain": [
       "True"
      ]
     },
     "execution_count": 7,
     "metadata": {},
     "output_type": "execute_result"
    }
   ],
   "source": [
    "records.index.nunique() == records.shape[0]"
   ]
  },
  {
   "cell_type": "markdown",
   "metadata": {},
   "source": [
    "We can import our CSV to check that the records are the same. We have the same number of rows and columns, and they have the same content. \n",
    "\n",
    "Note: pd.DataFrame.equals() would not be True, as the original dataframe has 'authors', 'language', and 'keywords' stored as lists. The dataframe as read in from the CSV would require additional processing to be fully equivalent on all measures."
   ]
  },
  {
   "cell_type": "code",
   "execution_count": 8,
   "metadata": {},
   "outputs": [
    {
     "name": "stdout",
     "output_type": "stream",
     "text": [
      "(9984, 14)\n"
     ]
    },
    {
     "data": {
      "text/html": [
       "<div>\n",
       "<style scoped>\n",
       "    .dataframe tbody tr th:only-of-type {\n",
       "        vertical-align: middle;\n",
       "    }\n",
       "\n",
       "    .dataframe tbody tr th {\n",
       "        vertical-align: top;\n",
       "    }\n",
       "\n",
       "    .dataframe thead th {\n",
       "        text-align: right;\n",
       "    }\n",
       "</style>\n",
       "<table border=\"1\" class=\"dataframe\">\n",
       "  <thead>\n",
       "    <tr style=\"text-align: right;\">\n",
       "      <th></th>\n",
       "      <th>title</th>\n",
       "      <th>pubdate</th>\n",
       "      <th>authors</th>\n",
       "      <th>keywords</th>\n",
       "      <th>journal</th>\n",
       "      <th>isoabbrev</th>\n",
       "      <th>volume</th>\n",
       "      <th>issue</th>\n",
       "      <th>page_start</th>\n",
       "      <th>page_end</th>\n",
       "      <th>language</th>\n",
       "      <th>abstract</th>\n",
       "      <th>other_type</th>\n",
       "      <th>other_val</th>\n",
       "    </tr>\n",
       "    <tr>\n",
       "      <th>pmid</th>\n",
       "      <th></th>\n",
       "      <th></th>\n",
       "      <th></th>\n",
       "      <th></th>\n",
       "      <th></th>\n",
       "      <th></th>\n",
       "      <th></th>\n",
       "      <th></th>\n",
       "      <th></th>\n",
       "      <th></th>\n",
       "      <th></th>\n",
       "      <th></th>\n",
       "      <th></th>\n",
       "      <th></th>\n",
       "    </tr>\n",
       "  </thead>\n",
       "  <tbody>\n",
       "    <tr>\n",
       "      <th>33193428</th>\n",
       "      <td>major scientific hurdles in hiv vaccine develo...</td>\n",
       "      <td>2020-01-01</td>\n",
       "      <td>[{'order': '1', 'first': 'tiza', 'last': \"ng'u...</td>\n",
       "      <td>['history of hiv-1 vaccines', 'hiv', 'hiv-1 va...</td>\n",
       "      <td>frontiers in immunology</td>\n",
       "      <td>front immunol</td>\n",
       "      <td>11</td>\n",
       "      <td>&lt;NA&gt;</td>\n",
       "      <td>590780</td>\n",
       "      <td>590780</td>\n",
       "      <td>['eng']</td>\n",
       "      <td>Following the discovery of HIV as a causative ...</td>\n",
       "      <td>NaN</td>\n",
       "      <td>NaN</td>\n",
       "    </tr>\n",
       "    <tr>\n",
       "      <th>32692406</th>\n",
       "      <td>hiv/sars-cov-2 coinfection: a global perspective.</td>\n",
       "      <td>2021-02-01</td>\n",
       "      <td>[{'order': '1', 'first': 'osman', 'last': 'kan...</td>\n",
       "      <td>['hiv', 'covid-19', 'antiretroviral therapy/co...</td>\n",
       "      <td>journal of medical virology</td>\n",
       "      <td>j med virol</td>\n",
       "      <td>93</td>\n",
       "      <td>2</td>\n",
       "      <td>726</td>\n",
       "      <td>732</td>\n",
       "      <td>['eng']</td>\n",
       "      <td>Since its first appearance in Wuhan, China, se...</td>\n",
       "      <td>NaN</td>\n",
       "      <td>NaN</td>\n",
       "    </tr>\n",
       "    <tr>\n",
       "      <th>31936859</th>\n",
       "      <td>block-and-lock strategies to cure hiv infection.</td>\n",
       "      <td>2020-01-01</td>\n",
       "      <td>[{'order': '1', 'first': 'gerlinde', 'last': '...</td>\n",
       "      <td>['hiv', 'latency', 'block-and-lock', 'cure']</td>\n",
       "      <td>viruses</td>\n",
       "      <td>viruses</td>\n",
       "      <td>12</td>\n",
       "      <td>1</td>\n",
       "      <td>NaN</td>\n",
       "      <td>NaN</td>\n",
       "      <td>['eng']</td>\n",
       "      <td>Today HIV infection cannot be cured due to the...</td>\n",
       "      <td>NaN</td>\n",
       "      <td>NaN</td>\n",
       "    </tr>\n",
       "    <tr>\n",
       "      <th>32066532</th>\n",
       "      <td>hiv transmission and source-sink dynamics in s...</td>\n",
       "      <td>2020-03-01</td>\n",
       "      <td>[{'order': '1', 'first': 'justin', 'last': 'ok...</td>\n",
       "      <td>NaN</td>\n",
       "      <td>the lancet. hiv</td>\n",
       "      <td>lancet hiv</td>\n",
       "      <td>7</td>\n",
       "      <td>3</td>\n",
       "      <td>e209</td>\n",
       "      <td>e214</td>\n",
       "      <td>['eng']</td>\n",
       "      <td>Multiple phylogenetic studies of HIV in sub-Sa...</td>\n",
       "      <td>NaN</td>\n",
       "      <td>NaN</td>\n",
       "    </tr>\n",
       "    <tr>\n",
       "      <th>32612233</th>\n",
       "      <td>clinical targeting of hiv capsid protein with ...</td>\n",
       "      <td>2020-08-01</td>\n",
       "      <td>[{'order': '1', 'first': 'john', 'last': 'link...</td>\n",
       "      <td>NaN</td>\n",
       "      <td>nature</td>\n",
       "      <td>nature</td>\n",
       "      <td>584</td>\n",
       "      <td>7822</td>\n",
       "      <td>614</td>\n",
       "      <td>618</td>\n",
       "      <td>['eng']</td>\n",
       "      <td>Oral antiretroviral agents provide life-saving...</td>\n",
       "      <td>NaN</td>\n",
       "      <td>NaN</td>\n",
       "    </tr>\n",
       "  </tbody>\n",
       "</table>\n",
       "</div>"
      ],
      "text/plain": [
       "                                                      title     pubdate  \\\n",
       "pmid                                                                      \n",
       "33193428  major scientific hurdles in hiv vaccine develo...  2020-01-01   \n",
       "32692406  hiv/sars-cov-2 coinfection: a global perspective.  2021-02-01   \n",
       "31936859   block-and-lock strategies to cure hiv infection.  2020-01-01   \n",
       "32066532  hiv transmission and source-sink dynamics in s...  2020-03-01   \n",
       "32612233  clinical targeting of hiv capsid protein with ...  2020-08-01   \n",
       "\n",
       "                                                    authors  \\\n",
       "pmid                                                          \n",
       "33193428  [{'order': '1', 'first': 'tiza', 'last': \"ng'u...   \n",
       "32692406  [{'order': '1', 'first': 'osman', 'last': 'kan...   \n",
       "31936859  [{'order': '1', 'first': 'gerlinde', 'last': '...   \n",
       "32066532  [{'order': '1', 'first': 'justin', 'last': 'ok...   \n",
       "32612233  [{'order': '1', 'first': 'john', 'last': 'link...   \n",
       "\n",
       "                                                   keywords  \\\n",
       "pmid                                                          \n",
       "33193428  ['history of hiv-1 vaccines', 'hiv', 'hiv-1 va...   \n",
       "32692406  ['hiv', 'covid-19', 'antiretroviral therapy/co...   \n",
       "31936859       ['hiv', 'latency', 'block-and-lock', 'cure']   \n",
       "32066532                                                NaN   \n",
       "32612233                                                NaN   \n",
       "\n",
       "                              journal      isoabbrev  volume  issue  \\\n",
       "pmid                                                                  \n",
       "33193428      frontiers in immunology  front immunol      11   <NA>   \n",
       "32692406  journal of medical virology    j med virol      93      2   \n",
       "31936859                      viruses        viruses      12      1   \n",
       "32066532              the lancet. hiv     lancet hiv       7      3   \n",
       "32612233                       nature         nature     584   7822   \n",
       "\n",
       "         page_start page_end language  \\\n",
       "pmid                                    \n",
       "33193428     590780   590780  ['eng']   \n",
       "32692406        726      732  ['eng']   \n",
       "31936859        NaN      NaN  ['eng']   \n",
       "32066532       e209     e214  ['eng']   \n",
       "32612233        614      618  ['eng']   \n",
       "\n",
       "                                                   abstract other_type  \\\n",
       "pmid                                                                     \n",
       "33193428  Following the discovery of HIV as a causative ...        NaN   \n",
       "32692406  Since its first appearance in Wuhan, China, se...        NaN   \n",
       "31936859  Today HIV infection cannot be cured due to the...        NaN   \n",
       "32066532  Multiple phylogenetic studies of HIV in sub-Sa...        NaN   \n",
       "32612233  Oral antiretroviral agents provide life-saving...        NaN   \n",
       "\n",
       "          other_val  \n",
       "pmid                 \n",
       "33193428        NaN  \n",
       "32692406        NaN  \n",
       "31936859        NaN  \n",
       "32066532        NaN  \n",
       "32612233        NaN  "
      ]
     },
     "metadata": {},
     "output_type": "display_data"
    }
   ],
   "source": [
    "import pandas as pd\n",
    "\n",
    "file_records = pd.read_csv('demo_data.csv', \n",
    "                    sep = ',', \n",
    "                    header = 0, \n",
    "                    dtype={'pmid': int, 'volume': 'Int64', 'issue': 'Int64'})\\\n",
    "                        .set_index('pmid', drop = True)\n",
    "print(file_records.shape)\n",
    "display(file_records.head())"
   ]
  },
  {
   "cell_type": "markdown",
   "metadata": {},
   "source": [
    "#### Exploration of Options"
   ]
  },
  {
   "cell_type": "markdown",
   "metadata": {},
   "source": [
    "There are several options available in the `pubmed_tool.scraper()` function. The only mandatory fields are `keyword`, `start_date`, `end_date`, and `email`. For a full exploration of these options, we encourage you to view the [User Manual](https://github.com/intro-to-ds-capstone/capstone-project/blob/main/docs/user_manual.pdf).\n",
    "\n",
    "As an additional brief demonstration, we will perform another query. This time, we will search for articles with the term 'genomics' published between January 1, 2020 and February 1, 2023. We want to restrict our results to the first 300 articles returned. If we are working on an older system, we may determine we need to 'chunk' our data processing so that our memory only holds the full data for 100 records at a time before recording to disc."
   ]
  },
  {
   "cell_type": "code",
   "execution_count": 9,
   "metadata": {},
   "outputs": [
    {
     "name": "stderr",
     "output_type": "stream",
     "text": [
      "2023-12-05 21:07:48 - INFO: ['No project directory given. Directory set to the current working directory.']\n",
      "2023-12-05 21:07:48 - INFO: Initiating PubMed search.\n",
      " \tQuery: (genomics) AND (\"2020/01/01\"[Date - Publication] : \"2023/02/01\"[Date - Publication])\n",
      " \tEntrez email: morrigan.mahady@uth.tmc.edu\n",
      " \tMax returns: 300\n",
      "2023-12-05 21:07:49 - INFO: Search Successful! Obtained 300 PMID(s).\n",
      "2023-12-05 21:07:49 - INFO: Initiating PubMed search. Requesting article records for 100 PMID(s)\n",
      "2023-12-05 21:07:50 - INFO: Search Successful! Obtained records for  100 PMID(s).\n",
      "2023-12-05 21:07:50 - INFO: Initiating PubMed search. Requesting article records for 100 PMID(s)\n",
      "2023-12-05 21:07:52 - INFO: Search Successful! Obtained records for  100 PMID(s).\n",
      "2023-12-05 21:07:52 - INFO: Initiating PubMed search. Requesting article records for 100 PMID(s)\n",
      "2023-12-05 21:07:53 - INFO: Search Successful! Obtained records for  100 PMID(s).\n",
      "2023-12-05 21:07:53 - INFO: Success! \n",
      " 300 records for PubMed Search: \n",
      "(genomics) AND (\"2020/01/01\"[Date - Publication] : \"2023/02/01\"[Date - Publication]) \n",
      " processed and written to c:\\Users\\morri\\Documents\\demo\\demo_expanded.csv\n"
     ]
    }
   ],
   "source": [
    "pubmed_tool.scraper(keyword = 'genomics', \n",
    "                    start_date = '2020/01/01', \n",
    "                    end_date = '2023/02/01',\n",
    "                    email = input('email:').lower().strip(), \n",
    "                    project_dir = None,\n",
    "                    path = 'demo_expanded.csv', \n",
    "                    chunksize = 100, max_returns = 300,\n",
    "                    overwrite = True, return_df = False)"
   ]
  },
  {
   "cell_type": "markdown",
   "metadata": {},
   "source": [
    "Our log indicates the chunking steps, and all appears well. We read in our file, and find it does contain the expected 300 records in the expected format."
   ]
  },
  {
   "cell_type": "code",
   "execution_count": 10,
   "metadata": {},
   "outputs": [
    {
     "name": "stdout",
     "output_type": "stream",
     "text": [
      "(300, 14)\n"
     ]
    },
    {
     "data": {
      "text/html": [
       "<div>\n",
       "<style scoped>\n",
       "    .dataframe tbody tr th:only-of-type {\n",
       "        vertical-align: middle;\n",
       "    }\n",
       "\n",
       "    .dataframe tbody tr th {\n",
       "        vertical-align: top;\n",
       "    }\n",
       "\n",
       "    .dataframe thead th {\n",
       "        text-align: right;\n",
       "    }\n",
       "</style>\n",
       "<table border=\"1\" class=\"dataframe\">\n",
       "  <thead>\n",
       "    <tr style=\"text-align: right;\">\n",
       "      <th></th>\n",
       "      <th>title</th>\n",
       "      <th>pubdate</th>\n",
       "      <th>authors</th>\n",
       "      <th>keywords</th>\n",
       "      <th>journal</th>\n",
       "      <th>isoabbrev</th>\n",
       "      <th>volume</th>\n",
       "      <th>issue</th>\n",
       "      <th>page_start</th>\n",
       "      <th>page_end</th>\n",
       "      <th>language</th>\n",
       "      <th>abstract</th>\n",
       "      <th>other_type</th>\n",
       "      <th>other_val</th>\n",
       "    </tr>\n",
       "    <tr>\n",
       "      <th>pmid</th>\n",
       "      <th></th>\n",
       "      <th></th>\n",
       "      <th></th>\n",
       "      <th></th>\n",
       "      <th></th>\n",
       "      <th></th>\n",
       "      <th></th>\n",
       "      <th></th>\n",
       "      <th></th>\n",
       "      <th></th>\n",
       "      <th></th>\n",
       "      <th></th>\n",
       "      <th></th>\n",
       "      <th></th>\n",
       "    </tr>\n",
       "  </thead>\n",
       "  <tbody>\n",
       "    <tr>\n",
       "      <th>32034321</th>\n",
       "      <td>pan-genomics in the human genome era.</td>\n",
       "      <td>2020-04-01</td>\n",
       "      <td>[{'order': '1', 'first': 'rachel', 'last': 'sh...</td>\n",
       "      <td>NaN</td>\n",
       "      <td>nature reviews. genetics</td>\n",
       "      <td>nat rev genet</td>\n",
       "      <td>21</td>\n",
       "      <td>4</td>\n",
       "      <td>243</td>\n",
       "      <td>254</td>\n",
       "      <td>['eng']</td>\n",
       "      <td>Since the early days of the genome era, the sc...</td>\n",
       "      <td>NaN</td>\n",
       "      <td>NaN</td>\n",
       "    </tr>\n",
       "    <tr>\n",
       "      <th>36523157</th>\n",
       "      <td>plant pan-genomics and its applications.</td>\n",
       "      <td>2023-01-01</td>\n",
       "      <td>[{'order': '1', 'first': 'junpeng', 'last': 's...</td>\n",
       "      <td>['genome assembly', 'plant pan-genome', 't-2-t...</td>\n",
       "      <td>molecular plant</td>\n",
       "      <td>mol plant</td>\n",
       "      <td>16</td>\n",
       "      <td>1</td>\n",
       "      <td>168</td>\n",
       "      <td>186</td>\n",
       "      <td>['eng']</td>\n",
       "      <td>Plant genomes are so highly diverse that a sub...</td>\n",
       "      <td>NaN</td>\n",
       "      <td>NaN</td>\n",
       "    </tr>\n",
       "    <tr>\n",
       "      <th>35145307</th>\n",
       "      <td>a roadmap to increase diversity in genomic stu...</td>\n",
       "      <td>2022-02-01</td>\n",
       "      <td>[{'order': '1', 'first': 'segun', 'last': 'fat...</td>\n",
       "      <td>NaN</td>\n",
       "      <td>nature medicine</td>\n",
       "      <td>nat med</td>\n",
       "      <td>28</td>\n",
       "      <td>2</td>\n",
       "      <td>243</td>\n",
       "      <td>250</td>\n",
       "      <td>['eng']</td>\n",
       "      <td>Two decades ago, the sequence of the first hum...</td>\n",
       "      <td>NaN</td>\n",
       "      <td>NaN</td>\n",
       "    </tr>\n",
       "    <tr>\n",
       "      <th>36302390</th>\n",
       "      <td>an expanded arsenal of immune systems that pro...</td>\n",
       "      <td>2022-11-01</td>\n",
       "      <td>[{'order': '1', 'first': 'adi', 'last': 'millm...</td>\n",
       "      <td>['bacterial immunity', 'microbial genomics', '...</td>\n",
       "      <td>cell host &amp; microbe</td>\n",
       "      <td>cell host microbe</td>\n",
       "      <td>30</td>\n",
       "      <td>11</td>\n",
       "      <td>1556</td>\n",
       "      <td>1569.e5</td>\n",
       "      <td>['eng']</td>\n",
       "      <td>Bacterial anti-phage systems are frequently cl...</td>\n",
       "      <td>NaN</td>\n",
       "      <td>NaN</td>\n",
       "    </tr>\n",
       "    <tr>\n",
       "      <th>31584170</th>\n",
       "      <td>plasmidfinder and in silico pmlst: identificat...</td>\n",
       "      <td>2020-01-01</td>\n",
       "      <td>[{'order': '1', 'first': 'alessandra', 'last':...</td>\n",
       "      <td>['bacterial typing', 'wgs', 'genomics', 'repli...</td>\n",
       "      <td>methods in molecular biology (clifton, n.j.)</td>\n",
       "      <td>methods mol biol</td>\n",
       "      <td>2075</td>\n",
       "      <td>&lt;NA&gt;</td>\n",
       "      <td>285</td>\n",
       "      <td>294</td>\n",
       "      <td>['eng']</td>\n",
       "      <td>PlasmidFinder and in silico plasmid multiLocus...</td>\n",
       "      <td>NaN</td>\n",
       "      <td>NaN</td>\n",
       "    </tr>\n",
       "  </tbody>\n",
       "</table>\n",
       "</div>"
      ],
      "text/plain": [
       "                                                      title     pubdate  \\\n",
       "pmid                                                                      \n",
       "32034321              pan-genomics in the human genome era.  2020-04-01   \n",
       "36523157           plant pan-genomics and its applications.  2023-01-01   \n",
       "35145307  a roadmap to increase diversity in genomic stu...  2022-02-01   \n",
       "36302390  an expanded arsenal of immune systems that pro...  2022-11-01   \n",
       "31584170  plasmidfinder and in silico pmlst: identificat...  2020-01-01   \n",
       "\n",
       "                                                    authors  \\\n",
       "pmid                                                          \n",
       "32034321  [{'order': '1', 'first': 'rachel', 'last': 'sh...   \n",
       "36523157  [{'order': '1', 'first': 'junpeng', 'last': 's...   \n",
       "35145307  [{'order': '1', 'first': 'segun', 'last': 'fat...   \n",
       "36302390  [{'order': '1', 'first': 'adi', 'last': 'millm...   \n",
       "31584170  [{'order': '1', 'first': 'alessandra', 'last':...   \n",
       "\n",
       "                                                   keywords  \\\n",
       "pmid                                                          \n",
       "32034321                                                NaN   \n",
       "36523157  ['genome assembly', 'plant pan-genome', 't-2-t...   \n",
       "35145307                                                NaN   \n",
       "36302390  ['bacterial immunity', 'microbial genomics', '...   \n",
       "31584170  ['bacterial typing', 'wgs', 'genomics', 'repli...   \n",
       "\n",
       "                                               journal          isoabbrev  \\\n",
       "pmid                                                                        \n",
       "32034321                      nature reviews. genetics      nat rev genet   \n",
       "36523157                               molecular plant          mol plant   \n",
       "35145307                               nature medicine            nat med   \n",
       "36302390                           cell host & microbe  cell host microbe   \n",
       "31584170  methods in molecular biology (clifton, n.j.)   methods mol biol   \n",
       "\n",
       "          volume  issue page_start page_end language  \\\n",
       "pmid                                                   \n",
       "32034321      21      4        243      254  ['eng']   \n",
       "36523157      16      1        168      186  ['eng']   \n",
       "35145307      28      2        243      250  ['eng']   \n",
       "36302390      30     11       1556  1569.e5  ['eng']   \n",
       "31584170    2075   <NA>        285      294  ['eng']   \n",
       "\n",
       "                                                   abstract other_type  \\\n",
       "pmid                                                                     \n",
       "32034321  Since the early days of the genome era, the sc...        NaN   \n",
       "36523157  Plant genomes are so highly diverse that a sub...        NaN   \n",
       "35145307  Two decades ago, the sequence of the first hum...        NaN   \n",
       "36302390  Bacterial anti-phage systems are frequently cl...        NaN   \n",
       "31584170  PlasmidFinder and in silico plasmid multiLocus...        NaN   \n",
       "\n",
       "          other_val  \n",
       "pmid                 \n",
       "32034321        NaN  \n",
       "36523157        NaN  \n",
       "35145307        NaN  \n",
       "36302390        NaN  \n",
       "31584170        NaN  "
      ]
     },
     "metadata": {},
     "output_type": "display_data"
    }
   ],
   "source": [
    "import pandas as pd\n",
    "\n",
    "file_records = pd.read_csv('demo_expanded.csv', \n",
    "                    sep = ',', \n",
    "                    header = 0,\n",
    "                    dtype={'pmid': int, 'volume': 'Int64', 'issue': 'Int64'})\\\n",
    "                        .set_index('pmid', drop = True)\n",
    "print(file_records.shape)\n",
    "display(file_records.head())"
   ]
  },
  {
   "cell_type": "markdown",
   "metadata": {},
   "source": [
    "### SQL Upload and Query with `pubmed_tool.sql_full()`"
   ]
  },
  {
   "cell_type": "markdown",
   "metadata": {},
   "source": [
    "#### Basic Upload and Query"
   ]
  },
  {
   "cell_type": "markdown",
   "metadata": {},
   "source": [
    "Now we would like to upload our data to a database and query an author name. We use our CSV file for this process, but we could also pass the output from scraper directly.\n",
    "\n",
    "Here, we are searching for any author with the name 'mary', in any field. If we had records with an author of 'Mary Jones' and 'Jackson Mary', we should return both of their results."
   ]
  },
  {
   "cell_type": "code",
   "execution_count": 12,
   "metadata": {},
   "outputs": [
    {
     "name": "stderr",
     "output_type": "stream",
     "text": [
      "2023-12-05 21:08:29 - INFO: ['No project directory given. Directory set to the current working directory.']\n",
      "2023-12-05 21:09:18 - INFO: ['No project directory given. Directory set to the current working directory.']\n",
      "2023-12-05 21:09:18 - INFO: Attempting to connect to SQLite database c:\\Users\\morri\\Documents\\demo\\publications.db\n",
      "2023-12-05 21:09:18 - INFO: Connection successful\n",
      "2023-12-05 21:09:18 - INFO: Table <papers> successfully created.\n",
      "2023-12-05 21:09:19 - INFO: 9984 unique papers sucessfully uploaded to SQLite table <papers>.\n",
      "2023-12-05 21:09:19 - INFO: Table <authors> successfully created.\n",
      "2023-12-05 21:09:19 - INFO: 49267 unique papers sucessfully uploaded to SQLite table <authors>.\n",
      "2023-12-05 21:09:19 - INFO: Table <pairs_authorpapers> successfully created.\n",
      "2023-12-05 21:09:19 - INFO: 69807 unique pairs of author-paperkeys successfully uploaded to SQLite table <pairs_authorpapers>.\n",
      "2023-12-05 21:09:19 - INFO: ['No project directory given. Directory set to the current working directory.']\n",
      "2023-12-05 21:09:19 - INFO: Attempting SQLite query on database:c:\\Users\\morri\\Documents\\demo\\publications.db \n",
      " \t Query text: \n",
      " \tSELECT pairs_authorpapers.fullname, pairs_authorpapers.firstauthor, papers.* \n",
      "FROM papers, pairs_authorpapers, authors \n",
      "WHERE ((authors.last LIKE '%mary%') OR (authors.first LIKE '%mary%') OR (authors.initials LIKE '%mary%'))AND pairs_authorpapers.fullname == authors.fullname AND papers.pmid == pairs_authorpapers.pmid\n",
      "GROUP BY pairs_authorpapers.fullname;\n"
     ]
    },
    {
     "name": "stdout",
     "output_type": "stream",
     "text": [
      "any\n"
     ]
    },
    {
     "name": "stderr",
     "output_type": "stream",
     "text": [
      "2023-12-05 21:09:20 - INFO: Query successful. Returning 190 records as pandas dataframe.\n"
     ]
    }
   ],
   "source": [
    "mary_records = pubmed_tool.sql_full('demo_data.csv', any_nm = 'mary')"
   ]
  },
  {
   "cell_type": "markdown",
   "metadata": {},
   "source": [
    "As we can see, our log output was again very informative. It let us know the names of the files, and the stages of processing as they occur. It also gave us the full text of the SQL query, if we wished to use it outside of the function itself. We know to expect 190 matching records.\n",
    "\n",
    "If we check the results, we find that we did receive 190 records. It provides us with the author's full name, if they were first author on the paper, and the details of the paper."
   ]
  },
  {
   "cell_type": "code",
   "execution_count": null,
   "metadata": {},
   "outputs": [
    {
     "name": "stdout",
     "output_type": "stream",
     "text": [
      "(190, 17)\n"
     ]
    },
    {
     "data": {
      "text/html": [
       "<div>\n",
       "<style scoped>\n",
       "    .dataframe tbody tr th:only-of-type {\n",
       "        vertical-align: middle;\n",
       "    }\n",
       "\n",
       "    .dataframe tbody tr th {\n",
       "        vertical-align: top;\n",
       "    }\n",
       "\n",
       "    .dataframe thead th {\n",
       "        text-align: right;\n",
       "    }\n",
       "</style>\n",
       "<table border=\"1\" class=\"dataframe\">\n",
       "  <thead>\n",
       "    <tr style=\"text-align: right;\">\n",
       "      <th></th>\n",
       "      <th>fullname</th>\n",
       "      <th>firstauthor</th>\n",
       "      <th>pmid</th>\n",
       "      <th>title</th>\n",
       "      <th>pubdate</th>\n",
       "      <th>abstract</th>\n",
       "      <th>journal</th>\n",
       "      <th>isoabbrev</th>\n",
       "      <th>numauthors</th>\n",
       "      <th>volume</th>\n",
       "      <th>issue</th>\n",
       "      <th>page_start</th>\n",
       "      <th>page_end</th>\n",
       "      <th>other_type</th>\n",
       "      <th>other_val</th>\n",
       "      <th>keywords</th>\n",
       "      <th>language</th>\n",
       "    </tr>\n",
       "  </thead>\n",
       "  <tbody>\n",
       "    <tr>\n",
       "      <th>0</th>\n",
       "      <td>em okoli eberechukwu maryann</td>\n",
       "      <td>False</td>\n",
       "      <td>31885351</td>\n",
       "      <td>determination of antibodies to human immunodef...</td>\n",
       "      <td>2020-01-01</td>\n",
       "      <td>The need for a cure against HIV infection and ...</td>\n",
       "      <td>journal of immunoassay &amp; immunochemistry</td>\n",
       "      <td>j immunoassay immunochem</td>\n",
       "      <td>2</td>\n",
       "      <td>41</td>\n",
       "      <td>2.0</td>\n",
       "      <td>208</td>\n",
       "      <td>218</td>\n",
       "      <td>None</td>\n",
       "      <td>None</td>\n",
       "      <td>['nigeria', 'elisa', 'p24 antigen', 'pregnant ...</td>\n",
       "      <td>['English']</td>\n",
       "    </tr>\n",
       "    <tr>\n",
       "      <th>1</th>\n",
       "      <td>f al ammary fawaz</td>\n",
       "      <td>False</td>\n",
       "      <td>32681603</td>\n",
       "      <td>early steroid withdrawal in hiv-infected kidne...</td>\n",
       "      <td>2021-02-01</td>\n",
       "      <td>Kidney transplant (KT) outcomes for HIV-infect...</td>\n",
       "      <td>american journal of transplantation : official...</td>\n",
       "      <td>am j transplant</td>\n",
       "      <td>6</td>\n",
       "      <td>21</td>\n",
       "      <td>2.0</td>\n",
       "      <td>717</td>\n",
       "      <td>726</td>\n",
       "      <td>None</td>\n",
       "      <td>None</td>\n",
       "      <td>['clinical research/practice', 'immunosuppress...</td>\n",
       "      <td>['English']</td>\n",
       "    </tr>\n",
       "    <tr>\n",
       "      <th>2</th>\n",
       "      <td>im poynten isobel mary</td>\n",
       "      <td>False</td>\n",
       "      <td>32621759</td>\n",
       "      <td>a meta-analysis of anal cancer incidence by ri...</td>\n",
       "      <td>2021-01-01</td>\n",
       "      <td>Certain population groups are known to have hi...</td>\n",
       "      <td>international journal of cancer</td>\n",
       "      <td>int j cancer</td>\n",
       "      <td>9</td>\n",
       "      <td>148</td>\n",
       "      <td>1.0</td>\n",
       "      <td>38</td>\n",
       "      <td>47</td>\n",
       "      <td>None</td>\n",
       "      <td>None</td>\n",
       "      <td>['incidence', 'anal cancer', 'msm', 'transplan...</td>\n",
       "      <td>['English']</td>\n",
       "    </tr>\n",
       "    <tr>\n",
       "      <th>3</th>\n",
       "      <td>im poynten mary</td>\n",
       "      <td>False</td>\n",
       "      <td>32109409</td>\n",
       "      <td>hiv treatment and anal cancer: emerging clarity.</td>\n",
       "      <td>2020-04-01</td>\n",
       "      <td>None</td>\n",
       "      <td>the lancet. hiv</td>\n",
       "      <td>lancet hiv</td>\n",
       "      <td>3</td>\n",
       "      <td>7</td>\n",
       "      <td>4.0</td>\n",
       "      <td>e220</td>\n",
       "      <td>e221</td>\n",
       "      <td>None</td>\n",
       "      <td>None</td>\n",
       "      <td>[]</td>\n",
       "      <td>['English']</td>\n",
       "    </tr>\n",
       "    <tr>\n",
       "      <th>4</th>\n",
       "      <td>j molden jhomary</td>\n",
       "      <td>False</td>\n",
       "      <td>32163523</td>\n",
       "      <td>the human il-15 superagonist n-803 promotes mi...</td>\n",
       "      <td>2020-03-01</td>\n",
       "      <td>Despite the success of antiretroviral therapy ...</td>\n",
       "      <td>plos pathogens</td>\n",
       "      <td>plos pathog</td>\n",
       "      <td>22</td>\n",
       "      <td>16</td>\n",
       "      <td>3.0</td>\n",
       "      <td>e1008339</td>\n",
       "      <td>e1008339</td>\n",
       "      <td>None</td>\n",
       "      <td>None</td>\n",
       "      <td>[]</td>\n",
       "      <td>['English']</td>\n",
       "    </tr>\n",
       "  </tbody>\n",
       "</table>\n",
       "</div>"
      ],
      "text/plain": [
       "                       fullname  firstauthor      pmid  \\\n",
       "0  em okoli eberechukwu maryann        False  31885351   \n",
       "1             f al ammary fawaz        False  32681603   \n",
       "2        im poynten isobel mary        False  32621759   \n",
       "3               im poynten mary        False  32109409   \n",
       "4              j molden jhomary        False  32163523   \n",
       "\n",
       "                                               title    pubdate  \\\n",
       "0  determination of antibodies to human immunodef... 2020-01-01   \n",
       "1  early steroid withdrawal in hiv-infected kidne... 2021-02-01   \n",
       "2  a meta-analysis of anal cancer incidence by ri... 2021-01-01   \n",
       "3   hiv treatment and anal cancer: emerging clarity. 2020-04-01   \n",
       "4  the human il-15 superagonist n-803 promotes mi... 2020-03-01   \n",
       "\n",
       "                                            abstract  \\\n",
       "0  The need for a cure against HIV infection and ...   \n",
       "1  Kidney transplant (KT) outcomes for HIV-infect...   \n",
       "2  Certain population groups are known to have hi...   \n",
       "3                                               None   \n",
       "4  Despite the success of antiretroviral therapy ...   \n",
       "\n",
       "                                             journal  \\\n",
       "0           journal of immunoassay & immunochemistry   \n",
       "1  american journal of transplantation : official...   \n",
       "2                    international journal of cancer   \n",
       "3                                    the lancet. hiv   \n",
       "4                                     plos pathogens   \n",
       "\n",
       "                  isoabbrev  numauthors  volume  issue page_start  page_end  \\\n",
       "0  j immunoassay immunochem           2      41    2.0        208       218   \n",
       "1           am j transplant           6      21    2.0        717       726   \n",
       "2              int j cancer           9     148    1.0         38        47   \n",
       "3                lancet hiv           3       7    4.0       e220      e221   \n",
       "4               plos pathog          22      16    3.0   e1008339  e1008339   \n",
       "\n",
       "  other_type other_val                                           keywords  \\\n",
       "0       None      None  ['nigeria', 'elisa', 'p24 antigen', 'pregnant ...   \n",
       "1       None      None  ['clinical research/practice', 'immunosuppress...   \n",
       "2       None      None  ['incidence', 'anal cancer', 'msm', 'transplan...   \n",
       "3       None      None                                                 []   \n",
       "4       None      None                                                 []   \n",
       "\n",
       "      language  \n",
       "0  ['English']  \n",
       "1  ['English']  \n",
       "2  ['English']  \n",
       "3  ['English']  \n",
       "4  ['English']  "
      ]
     },
     "metadata": {},
     "output_type": "display_data"
    }
   ],
   "source": [
    "print(mary_records.shape)\n",
    "display(mary_records.head())"
   ]
  },
  {
   "cell_type": "markdown",
   "metadata": {},
   "source": [
    "#### Expanded Options"
   ]
  },
  {
   "cell_type": "markdown",
   "metadata": {},
   "source": [
    "There are several options available in the `pubmed_tool.sql_full()` function. The only mandatory field is `t_df`, wherein one would specify the data frame for upload. For a full exploration of these options, we encourage you to view the [User Manual](https://github.com/intro-to-ds-capstone/capstone-project/blob/main/docs/user_manual.pdf).\n",
    "\n",
    "As a small demonstration, we will create another database based on our genomics scrape, with custom names for each of the tables. We want to query any author with the initial 'A'."
   ]
  },
  {
   "cell_type": "code",
   "execution_count": 7,
   "metadata": {},
   "outputs": [
    {
     "name": "stderr",
     "output_type": "stream",
     "text": [
      "2023-12-05 21:17:05 - INFO: ['No project directory given. Directory set to the current working directory.']\n",
      "2023-12-05 21:17:07 - INFO: ['No project directory given. Directory set to the current working directory.']\n",
      "2023-12-05 21:17:07 - INFO: Attempting to connect to SQLite database c:\\Users\\morri\\Documents\\demo\\genomics.db\n",
      "2023-12-05 21:17:07 - INFO: Connection successful\n",
      "2023-12-05 21:17:07 - INFO: Table <genomics_papers> successfully created.\n",
      "2023-12-05 21:17:07 - INFO: 300 unique papers sucessfully uploaded to SQLite table <genomics_papers>.\n",
      "2023-12-05 21:17:07 - INFO: Table <genomics_authors> successfully created.\n",
      "2023-12-05 21:17:07 - INFO: 1583 unique papers sucessfully uploaded to SQLite table <genomics_authors>.\n",
      "2023-12-05 21:17:07 - INFO: Table <genomics_pairs> successfully created.\n",
      "2023-12-05 21:17:07 - INFO: 1624 unique pairs of author-paperkeys successfully uploaded to SQLite table <genomics_pairs>.\n",
      "2023-12-05 21:17:07 - INFO: ['No project directory given. Directory set to the current working directory.']\n",
      "2023-12-05 21:17:07 - INFO: Attempting SQLite query on database:c:\\Users\\morri\\Documents\\demo\\genomics.db \n",
      " \t Query text: \n",
      " \tSELECT genomics_pairs.fullname, genomics_pairs.firstauthor, genomics_papers.* \n",
      "FROM genomics_papers, genomics_pairs, genomics_authors \n",
      "WHERE (genomics_authors.initials LIKE '%a%')AND genomics_pairs.fullname == genomics_authors.fullname AND genomics_papers.pmid == genomics_pairs.pmid\n",
      "GROUP BY genomics_pairs.fullname;\n",
      "2023-12-05 21:17:07 - INFO: Query successful. Returning 166 records as pandas dataframe.\n"
     ]
    }
   ],
   "source": [
    "genomics_records = pubmed_tool.sql_full('demo_expanded.csv', \n",
    "                    project_dir = None, \n",
    "                    db_name = 'genomics.db', \n",
    "                    paper_name = 'genomics_papers', \n",
    "                    authors_name = 'genomics_authors',\n",
    "                    pairs_name = 'genomics_pairs',\n",
    "                    any_nm = None, first_nm = None, \n",
    "                    last_nm = None, initials_nm = 'A'\n",
    "                    )"
   ]
  },
  {
   "cell_type": "markdown",
   "metadata": {},
   "source": [
    "Again, our logs were very useful. We found that 166 of our records had an author with an initial of 'A'. "
   ]
  },
  {
   "cell_type": "code",
   "execution_count": 8,
   "metadata": {},
   "outputs": [
    {
     "name": "stdout",
     "output_type": "stream",
     "text": [
      "(166, 17)\n"
     ]
    },
    {
     "data": {
      "text/html": [
       "<div>\n",
       "<style scoped>\n",
       "    .dataframe tbody tr th:only-of-type {\n",
       "        vertical-align: middle;\n",
       "    }\n",
       "\n",
       "    .dataframe tbody tr th {\n",
       "        vertical-align: top;\n",
       "    }\n",
       "\n",
       "    .dataframe thead th {\n",
       "        text-align: right;\n",
       "    }\n",
       "</style>\n",
       "<table border=\"1\" class=\"dataframe\">\n",
       "  <thead>\n",
       "    <tr style=\"text-align: right;\">\n",
       "      <th></th>\n",
       "      <th>fullname</th>\n",
       "      <th>firstauthor</th>\n",
       "      <th>pmid</th>\n",
       "      <th>title</th>\n",
       "      <th>pubdate</th>\n",
       "      <th>abstract</th>\n",
       "      <th>journal</th>\n",
       "      <th>isoabbrev</th>\n",
       "      <th>numauthors</th>\n",
       "      <th>volume</th>\n",
       "      <th>issue</th>\n",
       "      <th>page_start</th>\n",
       "      <th>page_end</th>\n",
       "      <th>other_type</th>\n",
       "      <th>other_val</th>\n",
       "      <th>keywords</th>\n",
       "      <th>language</th>\n",
       "    </tr>\n",
       "  </thead>\n",
       "  <tbody>\n",
       "    <tr>\n",
       "      <th>0</th>\n",
       "      <td>a afshinfard amirhossein</td>\n",
       "      <td>False</td>\n",
       "      <td>35729491</td>\n",
       "      <td>rresolver: efficient short-read repeat resolut...</td>\n",
       "      <td>2022-06-01</td>\n",
       "      <td>De novo genome assembly is essential to modern...</td>\n",
       "      <td>bmc bioinformatics</td>\n",
       "      <td>bmc bioinformatics</td>\n",
       "      <td>8</td>\n",
       "      <td>23</td>\n",
       "      <td>1.0</td>\n",
       "      <td>246</td>\n",
       "      <td>246</td>\n",
       "      <td>None</td>\n",
       "      <td>None</td>\n",
       "      <td>['scalable', 'repeat resolution', 'short reads...</td>\n",
       "      <td>['English']</td>\n",
       "    </tr>\n",
       "    <tr>\n",
       "      <th>1</th>\n",
       "      <td>a agarwal akshay</td>\n",
       "      <td>False</td>\n",
       "      <td>32877338</td>\n",
       "      <td>functional genomics platform, a cloud-based pl...</td>\n",
       "      <td>2022-01-01</td>\n",
       "      <td>The rapid growth in biological sequence data i...</td>\n",
       "      <td>ieee/acm transactions on computational biology...</td>\n",
       "      <td>ieee/acm trans comput biol bioinform</td>\n",
       "      <td>11</td>\n",
       "      <td>19</td>\n",
       "      <td>2.0</td>\n",
       "      <td>940</td>\n",
       "      <td>952</td>\n",
       "      <td>None</td>\n",
       "      <td>None</td>\n",
       "      <td>[]</td>\n",
       "      <td>['English']</td>\n",
       "    </tr>\n",
       "    <tr>\n",
       "      <th>2</th>\n",
       "      <td>a bag aishee</td>\n",
       "      <td>False</td>\n",
       "      <td>36131352</td>\n",
       "      <td>genomics and epigenetics guided identification...</td>\n",
       "      <td>2022-09-01</td>\n",
       "      <td>Genomic safe harbors are regions of the genome...</td>\n",
       "      <td>genome biology</td>\n",
       "      <td>genome biol</td>\n",
       "      <td>8</td>\n",
       "      <td>23</td>\n",
       "      <td>1.0</td>\n",
       "      <td>199</td>\n",
       "      <td>199</td>\n",
       "      <td>None</td>\n",
       "      <td>None</td>\n",
       "      <td>['genetic engineering', 'chromatin organizatio...</td>\n",
       "      <td>['English']</td>\n",
       "    </tr>\n",
       "    <tr>\n",
       "      <th>3</th>\n",
       "      <td>a bashir ali</td>\n",
       "      <td>False</td>\n",
       "      <td>31397844</td>\n",
       "      <td>mspac: a tool for haplotype-phased structural ...</td>\n",
       "      <td>2020-02-01</td>\n",
       "      <td>While next-generation sequencing (NGS) has dra...</td>\n",
       "      <td>bioinformatics (oxford, england)</td>\n",
       "      <td>bioinformatics</td>\n",
       "      <td>4</td>\n",
       "      <td>36</td>\n",
       "      <td>3.0</td>\n",
       "      <td>922</td>\n",
       "      <td>924</td>\n",
       "      <td>None</td>\n",
       "      <td>None</td>\n",
       "      <td>[]</td>\n",
       "      <td>['English']</td>\n",
       "    </tr>\n",
       "    <tr>\n",
       "      <th>4</th>\n",
       "      <td>a bauer armin</td>\n",
       "      <td>False</td>\n",
       "      <td>35442080</td>\n",
       "      <td>genomic and chemical decryption of the bactero...</td>\n",
       "      <td>2022-06-01</td>\n",
       "      <td>With progress in genome sequencing and data sh...</td>\n",
       "      <td>microbiology spectrum</td>\n",
       "      <td>microbiol spectr</td>\n",
       "      <td>16</td>\n",
       "      <td>10</td>\n",
       "      <td>3.0</td>\n",
       "      <td>e0247921</td>\n",
       "      <td>e0247921</td>\n",
       "      <td>None</td>\n",
       "      <td>None</td>\n",
       "      <td>['natural products', 'bacteroidetes', 'antifun...</td>\n",
       "      <td>['English']</td>\n",
       "    </tr>\n",
       "  </tbody>\n",
       "</table>\n",
       "</div>"
      ],
      "text/plain": [
       "                   fullname  firstauthor      pmid  \\\n",
       "0  a afshinfard amirhossein        False  35729491   \n",
       "1          a agarwal akshay        False  32877338   \n",
       "2              a bag aishee        False  36131352   \n",
       "3              a bashir ali        False  31397844   \n",
       "4             a bauer armin        False  35442080   \n",
       "\n",
       "                                               title    pubdate  \\\n",
       "0  rresolver: efficient short-read repeat resolut... 2022-06-01   \n",
       "1  functional genomics platform, a cloud-based pl... 2022-01-01   \n",
       "2  genomics and epigenetics guided identification... 2022-09-01   \n",
       "3  mspac: a tool for haplotype-phased structural ... 2020-02-01   \n",
       "4  genomic and chemical decryption of the bactero... 2022-06-01   \n",
       "\n",
       "                                            abstract  \\\n",
       "0  De novo genome assembly is essential to modern...   \n",
       "1  The rapid growth in biological sequence data i...   \n",
       "2  Genomic safe harbors are regions of the genome...   \n",
       "3  While next-generation sequencing (NGS) has dra...   \n",
       "4  With progress in genome sequencing and data sh...   \n",
       "\n",
       "                                             journal  \\\n",
       "0                                 bmc bioinformatics   \n",
       "1  ieee/acm transactions on computational biology...   \n",
       "2                                     genome biology   \n",
       "3                   bioinformatics (oxford, england)   \n",
       "4                              microbiology spectrum   \n",
       "\n",
       "                              isoabbrev  numauthors  volume  issue page_start  \\\n",
       "0                    bmc bioinformatics           8      23    1.0        246   \n",
       "1  ieee/acm trans comput biol bioinform          11      19    2.0        940   \n",
       "2                           genome biol           8      23    1.0        199   \n",
       "3                        bioinformatics           4      36    3.0        922   \n",
       "4                      microbiol spectr          16      10    3.0   e0247921   \n",
       "\n",
       "   page_end other_type other_val  \\\n",
       "0       246       None      None   \n",
       "1       952       None      None   \n",
       "2       199       None      None   \n",
       "3       924       None      None   \n",
       "4  e0247921       None      None   \n",
       "\n",
       "                                            keywords     language  \n",
       "0  ['scalable', 'repeat resolution', 'short reads...  ['English']  \n",
       "1                                                 []  ['English']  \n",
       "2  ['genetic engineering', 'chromatin organizatio...  ['English']  \n",
       "3                                                 []  ['English']  \n",
       "4  ['natural products', 'bacteroidetes', 'antifun...  ['English']  "
      ]
     },
     "metadata": {},
     "output_type": "display_data"
    }
   ],
   "source": [
    "print(genomics_records.shape)\n",
    "display(genomics_records.head())"
   ]
  },
  {
   "cell_type": "markdown",
   "metadata": {},
   "source": [
    "def query(db_name = 'publications.db', \n",
    "              project_dir = None,\n",
    "              paper_name = 'papers', \n",
    "              authors_name = 'authors', \n",
    "              pairs_name = 'pairs_authorpapers', \n",
    "              any_nm = None, last_nm = None, \n",
    "              first_nm = None, initials_nm = None):"
   ]
  },
  {
   "cell_type": "markdown",
   "metadata": {},
   "source": [
    "#### Query Only"
   ]
  },
  {
   "cell_type": "markdown",
   "metadata": {},
   "source": [
    "The primary subfunction of the `pubmed_tool.sql` module that might be called outside of the main function of `pubmed_tool.sql_full()` is `pubmed_tool.sql.query()`, which performs only the query portion of the SQL processing.\n",
    "\n",
    "To demonstrate, we search our publications database for any author with a first name of 'xiaoling', which returns 2 records."
   ]
  },
  {
   "cell_type": "code",
   "execution_count": 13,
   "metadata": {},
   "outputs": [
    {
     "name": "stderr",
     "output_type": "stream",
     "text": [
      "2023-12-05 21:20:26 - INFO: ['No project directory given. Directory set to the current working directory.']\n",
      "2023-12-05 21:20:26 - INFO: Attempting SQLite query on database:c:\\Users\\morri\\Documents\\demo\\publications.db \n",
      " \t Query text: \n",
      " \tSELECT pairs_authorpapers.fullname, pairs_authorpapers.firstauthor, papers.* \n",
      "FROM papers, pairs_authorpapers, authors \n",
      "WHERE (authors.first LIKE '%xiaoling%')AND pairs_authorpapers.fullname == authors.fullname AND papers.pmid == pairs_authorpapers.pmid\n",
      "GROUP BY pairs_authorpapers.fullname;\n",
      "2023-12-05 21:20:26 - INFO: Query successful. Returning 2 records as pandas dataframe.\n"
     ]
    },
    {
     "data": {
      "text/html": [
       "<div>\n",
       "<style scoped>\n",
       "    .dataframe tbody tr th:only-of-type {\n",
       "        vertical-align: middle;\n",
       "    }\n",
       "\n",
       "    .dataframe tbody tr th {\n",
       "        vertical-align: top;\n",
       "    }\n",
       "\n",
       "    .dataframe thead th {\n",
       "        text-align: right;\n",
       "    }\n",
       "</style>\n",
       "<table border=\"1\" class=\"dataframe\">\n",
       "  <thead>\n",
       "    <tr style=\"text-align: right;\">\n",
       "      <th></th>\n",
       "      <th>fullname</th>\n",
       "      <th>firstauthor</th>\n",
       "      <th>pmid</th>\n",
       "      <th>title</th>\n",
       "      <th>pubdate</th>\n",
       "      <th>abstract</th>\n",
       "      <th>journal</th>\n",
       "      <th>isoabbrev</th>\n",
       "      <th>numauthors</th>\n",
       "      <th>volume</th>\n",
       "      <th>issue</th>\n",
       "      <th>page_start</th>\n",
       "      <th>page_end</th>\n",
       "      <th>other_type</th>\n",
       "      <th>other_val</th>\n",
       "      <th>keywords</th>\n",
       "      <th>language</th>\n",
       "    </tr>\n",
       "  </thead>\n",
       "  <tbody>\n",
       "    <tr>\n",
       "      <th>0</th>\n",
       "      <td>x guo xiaoling</td>\n",
       "      <td>False</td>\n",
       "      <td>32646373</td>\n",
       "      <td>effect of a multi-dimensional case management ...</td>\n",
       "      <td>2020-07-01</td>\n",
       "      <td>This paper introduces a comprehensive case man...</td>\n",
       "      <td>bmc infectious diseases</td>\n",
       "      <td>bmc infect dis</td>\n",
       "      <td>16</td>\n",
       "      <td>20</td>\n",
       "      <td>1.0</td>\n",
       "      <td>489</td>\n",
       "      <td>489</td>\n",
       "      <td>None</td>\n",
       "      <td>None</td>\n",
       "      <td>['hiv', 'retention rate', 'case management', '...</td>\n",
       "      <td>['English']</td>\n",
       "    </tr>\n",
       "    <tr>\n",
       "      <th>1</th>\n",
       "      <td>x wang xiaoling</td>\n",
       "      <td>False</td>\n",
       "      <td>32278789</td>\n",
       "      <td>stavudine exposure results in developmental ab...</td>\n",
       "      <td>2020-06-01</td>\n",
       "      <td>Stavudine is an anti-AIDS drug widely used to ...</td>\n",
       "      <td>toxicology</td>\n",
       "      <td>toxicology</td>\n",
       "      <td>9</td>\n",
       "      <td>439</td>\n",
       "      <td>NaN</td>\n",
       "      <td>152443</td>\n",
       "      <td>152443</td>\n",
       "      <td>None</td>\n",
       "      <td>None</td>\n",
       "      <td>['development', 'dna damage', 'hiv', 'abnormal...</td>\n",
       "      <td>['English']</td>\n",
       "    </tr>\n",
       "  </tbody>\n",
       "</table>\n",
       "</div>"
      ],
      "text/plain": [
       "          fullname  firstauthor      pmid  \\\n",
       "0   x guo xiaoling        False  32646373   \n",
       "1  x wang xiaoling        False  32278789   \n",
       "\n",
       "                                               title    pubdate  \\\n",
       "0  effect of a multi-dimensional case management ... 2020-07-01   \n",
       "1  stavudine exposure results in developmental ab... 2020-06-01   \n",
       "\n",
       "                                            abstract                  journal  \\\n",
       "0  This paper introduces a comprehensive case man...  bmc infectious diseases   \n",
       "1  Stavudine is an anti-AIDS drug widely used to ...               toxicology   \n",
       "\n",
       "        isoabbrev  numauthors  volume  issue page_start page_end other_type  \\\n",
       "0  bmc infect dis          16      20    1.0        489      489       None   \n",
       "1      toxicology           9     439    NaN     152443   152443       None   \n",
       "\n",
       "  other_val                                           keywords     language  \n",
       "0      None  ['hiv', 'retention rate', 'case management', '...  ['English']  \n",
       "1      None  ['development', 'dna damage', 'hiv', 'abnormal...  ['English']  "
      ]
     },
     "execution_count": 13,
     "metadata": {},
     "output_type": "execute_result"
    }
   ],
   "source": [
    "pubmed_tool.sql.query(db_name = 'publications.db', first_nm = 'xiaoling')"
   ]
  },
  {
   "cell_type": "markdown",
   "metadata": {},
   "source": [
    "### Visualization with `pubmed_tool.full_visual()`"
   ]
  },
  {
   "cell_type": "markdown",
   "metadata": {},
   "source": [
    "There are several options available in the `pubmed_tool.full_visual()` function. The only mandatory field is `t_df`, wherein one would specify the data frame for upload. For a full exploration of these options, we encourage you to view the [User Manual](https://github.com/intro-to-ds-capstone/capstone-project/blob/main/docs/user_manual.pdf).\n",
    "\n",
    "Because the visualization modules are powered by Holoviz and Bokeh, export is limited to visualization in a Jupyter notebook, temporary local hosting of a generated HTML webpage, or as an HTML file with full embeds of all requisite data. This avoided complex requirements for Selenium and PhantomJS imports. However, any of the visuals generated can be saved using the interactive 'save' button on the Bokeh visuals, or taken as a screenshot."
   ]
  },
  {
   "cell_type": "markdown",
   "metadata": {},
   "source": [
    "#### Static Visualization"
   ]
  },
  {
   "cell_type": "markdown",
   "metadata": {},
   "source": [
    "The primary visuals are the static visual pane, which generates summary statisics and descriptive plots of publications over time. It has options to customize the primary, secondary, and accent colors. For this demonstration, we are generating our visual with the default colors (explicitly passed), and a royalty free image from pexels. We also use our genomics set, as it is smaller and provides clearer histogram visuals."
   ]
  },
  {
   "cell_type": "code",
   "execution_count": 17,
   "metadata": {},
   "outputs": [
    {
     "name": "stderr",
     "output_type": "stream",
     "text": [
      "2023-12-05 21:30:11 - INFO: ['No project directory given. Directory set to the current working directory.']\n",
      "2023-12-05 21:30:11 - INFO: ['No project directory given. Directory set to the current working directory.']\n"
     ]
    },
    {
     "data": {
      "application/javascript": "(function(root) {\n  function now() {\n    return new Date();\n  }\n\n  var force = true;\n  var py_version = '3.3.1'.replace('rc', '-rc.').replace('.dev', '-dev.');\n  var is_dev = py_version.indexOf(\"+\") !== -1 || py_version.indexOf(\"-\") !== -1;\n  var reloading = true;\n  var Bokeh = root.Bokeh;\n  var bokeh_loaded = Bokeh != null && (Bokeh.version === py_version || (Bokeh.versions !== undefined && Bokeh.versions.has(py_version)));\n\n  if (typeof (root._bokeh_timeout) === \"undefined\" || force) {\n    root._bokeh_timeout = Date.now() + 5000;\n    root._bokeh_failed_load = false;\n  }\n\n  function run_callbacks() {\n    try {\n      root._bokeh_onload_callbacks.forEach(function(callback) {\n        if (callback != null)\n          callback();\n      });\n    } finally {\n      delete root._bokeh_onload_callbacks;\n    }\n    console.debug(\"Bokeh: all callbacks have finished\");\n  }\n\n  function load_libs(css_urls, js_urls, js_modules, js_exports, callback) {\n    if (css_urls == null) css_urls = [];\n    if (js_urls == null) js_urls = [];\n    if (js_modules == null) js_modules = [];\n    if (js_exports == null) js_exports = {};\n\n    root._bokeh_onload_callbacks.push(callback);\n\n    if (root._bokeh_is_loading > 0) {\n      console.debug(\"Bokeh: BokehJS is being loaded, scheduling callback at\", now());\n      return null;\n    }\n    if (js_urls.length === 0 && js_modules.length === 0 && Object.keys(js_exports).length === 0) {\n      run_callbacks();\n      return null;\n    }\n    if (!reloading) {\n      console.debug(\"Bokeh: BokehJS not loaded, scheduling load and callback at\", now());\n    }\n\n    function on_load() {\n      root._bokeh_is_loading--;\n      if (root._bokeh_is_loading === 0) {\n        console.debug(\"Bokeh: all BokehJS libraries/stylesheets loaded\");\n        run_callbacks()\n      }\n    }\n    window._bokeh_on_load = on_load\n\n    function on_error() {\n      console.error(\"failed to load \" + url);\n    }\n\n    var skip = [];\n    if (window.requirejs) {\n      window.requirejs.config({'packages': {}, 'paths': {'jspanel': 'https://cdn.jsdelivr.net/npm/jspanel4@4.12.0/dist/jspanel', 'jspanel-modal': 'https://cdn.jsdelivr.net/npm/jspanel4@4.12.0/dist/extensions/modal/jspanel.modal', 'jspanel-tooltip': 'https://cdn.jsdelivr.net/npm/jspanel4@4.12.0/dist/extensions/tooltip/jspanel.tooltip', 'jspanel-hint': 'https://cdn.jsdelivr.net/npm/jspanel4@4.12.0/dist/extensions/hint/jspanel.hint', 'jspanel-layout': 'https://cdn.jsdelivr.net/npm/jspanel4@4.12.0/dist/extensions/layout/jspanel.layout', 'jspanel-contextmenu': 'https://cdn.jsdelivr.net/npm/jspanel4@4.12.0/dist/extensions/contextmenu/jspanel.contextmenu', 'jspanel-dock': 'https://cdn.jsdelivr.net/npm/jspanel4@4.12.0/dist/extensions/dock/jspanel.dock', 'gridstack': 'https://cdn.jsdelivr.net/npm/gridstack@7.2.3/dist/gridstack-all', 'notyf': 'https://cdn.jsdelivr.net/npm/notyf@3/notyf.min'}, 'shim': {'jspanel': {'exports': 'jsPanel'}, 'gridstack': {'exports': 'GridStack'}}});\n      require([\"jspanel\"], function(jsPanel) {\n\twindow.jsPanel = jsPanel\n\ton_load()\n      })\n      require([\"jspanel-modal\"], function() {\n\ton_load()\n      })\n      require([\"jspanel-tooltip\"], function() {\n\ton_load()\n      })\n      require([\"jspanel-hint\"], function() {\n\ton_load()\n      })\n      require([\"jspanel-layout\"], function() {\n\ton_load()\n      })\n      require([\"jspanel-contextmenu\"], function() {\n\ton_load()\n      })\n      require([\"jspanel-dock\"], function() {\n\ton_load()\n      })\n      require([\"gridstack\"], function(GridStack) {\n\twindow.GridStack = GridStack\n\ton_load()\n      })\n      require([\"notyf\"], function() {\n\ton_load()\n      })\n      root._bokeh_is_loading = css_urls.length + 9;\n    } else {\n      root._bokeh_is_loading = css_urls.length + js_urls.length + js_modules.length + Object.keys(js_exports).length;\n    }\n\n    var existing_stylesheets = []\n    var links = document.getElementsByTagName('link')\n    for (var i = 0; i < links.length; i++) {\n      var link = links[i]\n      if (link.href != null) {\n\texisting_stylesheets.push(link.href)\n      }\n    }\n    for (var i = 0; i < css_urls.length; i++) {\n      var url = css_urls[i];\n      if (existing_stylesheets.indexOf(url) !== -1) {\n\ton_load()\n\tcontinue;\n      }\n      const element = document.createElement(\"link\");\n      element.onload = on_load;\n      element.onerror = on_error;\n      element.rel = \"stylesheet\";\n      element.type = \"text/css\";\n      element.href = url;\n      console.debug(\"Bokeh: injecting link tag for BokehJS stylesheet: \", url);\n      document.body.appendChild(element);\n    }    if (((window['jsPanel'] !== undefined) && (!(window['jsPanel'] instanceof HTMLElement))) || window.requirejs) {\n      var urls = ['https://cdn.holoviz.org/panel/1.3.1/dist/bundled/floatpanel/jspanel4@4.12.0/dist/jspanel.js', 'https://cdn.holoviz.org/panel/1.3.1/dist/bundled/floatpanel/jspanel4@4.12.0/dist/extensions/modal/jspanel.modal.js', 'https://cdn.holoviz.org/panel/1.3.1/dist/bundled/floatpanel/jspanel4@4.12.0/dist/extensions/tooltip/jspanel.tooltip.js', 'https://cdn.holoviz.org/panel/1.3.1/dist/bundled/floatpanel/jspanel4@4.12.0/dist/extensions/hint/jspanel.hint.js', 'https://cdn.holoviz.org/panel/1.3.1/dist/bundled/floatpanel/jspanel4@4.12.0/dist/extensions/layout/jspanel.layout.js', 'https://cdn.holoviz.org/panel/1.3.1/dist/bundled/floatpanel/jspanel4@4.12.0/dist/extensions/contextmenu/jspanel.contextmenu.js', 'https://cdn.holoviz.org/panel/1.3.1/dist/bundled/floatpanel/jspanel4@4.12.0/dist/extensions/dock/jspanel.dock.js'];\n      for (var i = 0; i < urls.length; i++) {\n        skip.push(urls[i])\n      }\n    }    if (((window['GridStack'] !== undefined) && (!(window['GridStack'] instanceof HTMLElement))) || window.requirejs) {\n      var urls = ['https://cdn.holoviz.org/panel/1.3.1/dist/bundled/gridstack/gridstack@7.2.3/dist/gridstack-all.js'];\n      for (var i = 0; i < urls.length; i++) {\n        skip.push(urls[i])\n      }\n    }    if (((window['Notyf'] !== undefined) && (!(window['Notyf'] instanceof HTMLElement))) || window.requirejs) {\n      var urls = ['https://cdn.holoviz.org/panel/1.3.1/dist/bundled/notificationarea/notyf@3/notyf.min.js'];\n      for (var i = 0; i < urls.length; i++) {\n        skip.push(urls[i])\n      }\n    }    var existing_scripts = []\n    var scripts = document.getElementsByTagName('script')\n    for (var i = 0; i < scripts.length; i++) {\n      var script = scripts[i]\n      if (script.src != null) {\n\texisting_scripts.push(script.src)\n      }\n    }\n    for (var i = 0; i < js_urls.length; i++) {\n      var url = js_urls[i];\n      if (skip.indexOf(url) !== -1 || existing_scripts.indexOf(url) !== -1) {\n\tif (!window.requirejs) {\n\t  on_load();\n\t}\n\tcontinue;\n      }\n      var element = document.createElement('script');\n      element.onload = on_load;\n      element.onerror = on_error;\n      element.async = false;\n      element.src = url;\n      console.debug(\"Bokeh: injecting script tag for BokehJS library: \", url);\n      document.head.appendChild(element);\n    }\n    for (var i = 0; i < js_modules.length; i++) {\n      var url = js_modules[i];\n      if (skip.indexOf(url) !== -1 || existing_scripts.indexOf(url) !== -1) {\n\tif (!window.requirejs) {\n\t  on_load();\n\t}\n\tcontinue;\n      }\n      var element = document.createElement('script');\n      element.onload = on_load;\n      element.onerror = on_error;\n      element.async = false;\n      element.src = url;\n      element.type = \"module\";\n      console.debug(\"Bokeh: injecting script tag for BokehJS library: \", url);\n      document.head.appendChild(element);\n    }\n    for (const name in js_exports) {\n      var url = js_exports[name];\n      if (skip.indexOf(url) >= 0 || root[name] != null) {\n\tif (!window.requirejs) {\n\t  on_load();\n\t}\n\tcontinue;\n      }\n      var element = document.createElement('script');\n      element.onerror = on_error;\n      element.async = false;\n      element.type = \"module\";\n      console.debug(\"Bokeh: injecting script tag for BokehJS library: \", url);\n      element.textContent = `\n      import ${name} from \"${url}\"\n      window.${name} = ${name}\n      window._bokeh_on_load()\n      `\n      document.head.appendChild(element);\n    }\n    if (!js_urls.length && !js_modules.length) {\n      on_load()\n    }\n  };\n\n  function inject_raw_css(css) {\n    const element = document.createElement(\"style\");\n    element.appendChild(document.createTextNode(css));\n    document.body.appendChild(element);\n  }\n\n  var js_urls = [];\n  var js_modules = [];\n  var js_exports = {};\n  var css_urls = [];\n  var inline_js = [    function(Bokeh) {\n      Bokeh.set_log_level(\"info\");\n    },\nfunction(Bokeh) {} // ensure no trailing comma for IE\n  ];\n\n  function run_inline_js() {\n    if ((root.Bokeh !== undefined) || (force === true)) {\n      for (var i = 0; i < inline_js.length; i++) {\n        inline_js[i].call(root, root.Bokeh);\n      }\n      // Cache old bokeh versions\n      if (Bokeh != undefined && !reloading) {\n\tvar NewBokeh = root.Bokeh;\n\tif (Bokeh.versions === undefined) {\n\t  Bokeh.versions = new Map();\n\t}\n\tif (NewBokeh.version !== Bokeh.version) {\n\t  Bokeh.versions.set(NewBokeh.version, NewBokeh)\n\t}\n\troot.Bokeh = Bokeh;\n      }} else if (Date.now() < root._bokeh_timeout) {\n      setTimeout(run_inline_js, 100);\n    } else if (!root._bokeh_failed_load) {\n      console.log(\"Bokeh: BokehJS failed to load within specified timeout.\");\n      root._bokeh_failed_load = true;\n    }\n    root._bokeh_is_initializing = false\n  }\n\n  function load_or_wait() {\n    // Implement a backoff loop that tries to ensure we do not load multiple\n    // versions of Bokeh and its dependencies at the same time.\n    // In recent versions we use the root._bokeh_is_initializing flag\n    // to determine whether there is an ongoing attempt to initialize\n    // bokeh, however for backward compatibility we also try to ensure\n    // that we do not start loading a newer (Panel>=1.0 and Bokeh>3) version\n    // before older versions are fully initialized.\n    if (root._bokeh_is_initializing && Date.now() > root._bokeh_timeout) {\n      root._bokeh_is_initializing = false;\n      root._bokeh_onload_callbacks = undefined;\n      console.log(\"Bokeh: BokehJS was loaded multiple times but one version failed to initialize.\");\n      load_or_wait();\n    } else if (root._bokeh_is_initializing || (typeof root._bokeh_is_initializing === \"undefined\" && root._bokeh_onload_callbacks !== undefined)) {\n      setTimeout(load_or_wait, 100);\n    } else {\n      Bokeh = root.Bokeh;\n      bokeh_loaded = Bokeh != null && (Bokeh.version === py_version || (Bokeh.versions !== undefined && Bokeh.versions.has(py_version)));\n      root._bokeh_is_initializing = true\n      root._bokeh_onload_callbacks = []\n      if (!reloading && (!bokeh_loaded || is_dev)) {\n\troot.Bokeh = undefined;\n      }\n      load_libs(css_urls, js_urls, js_modules, js_exports, function() {\n\tconsole.debug(\"Bokeh: BokehJS plotting callback run at\", now());\n\trun_inline_js();\n      });\n    }\n  }\n  // Give older versions of the autoload script a head-start to ensure\n  // they initialize before we start loading newer version.\n  setTimeout(load_or_wait, 100)\n}(window));",
      "application/vnd.holoviews_load.v0+json": ""
     },
     "metadata": {},
     "output_type": "display_data"
    },
    {
     "data": {
      "application/javascript": "\nif ((window.PyViz === undefined) || (window.PyViz instanceof HTMLElement)) {\n  window.PyViz = {comms: {}, comm_status:{}, kernels:{}, receivers: {}, plot_index: []}\n}\n\n\n    function JupyterCommManager() {\n    }\n\n    JupyterCommManager.prototype.register_target = function(plot_id, comm_id, msg_handler) {\n      if (window.comm_manager || ((window.Jupyter !== undefined) && (Jupyter.notebook.kernel != null))) {\n        var comm_manager = window.comm_manager || Jupyter.notebook.kernel.comm_manager;\n        comm_manager.register_target(comm_id, function(comm) {\n          comm.on_msg(msg_handler);\n        });\n      } else if ((plot_id in window.PyViz.kernels) && (window.PyViz.kernels[plot_id])) {\n        window.PyViz.kernels[plot_id].registerCommTarget(comm_id, function(comm) {\n          comm.onMsg = msg_handler;\n        });\n      } else if (typeof google != 'undefined' && google.colab.kernel != null) {\n        google.colab.kernel.comms.registerTarget(comm_id, (comm) => {\n          var messages = comm.messages[Symbol.asyncIterator]();\n          function processIteratorResult(result) {\n            var message = result.value;\n            console.log(message)\n            var content = {data: message.data, comm_id};\n            var buffers = []\n            for (var buffer of message.buffers || []) {\n              buffers.push(new DataView(buffer))\n            }\n            var metadata = message.metadata || {};\n            var msg = {content, buffers, metadata}\n            msg_handler(msg);\n            return messages.next().then(processIteratorResult);\n          }\n          return messages.next().then(processIteratorResult);\n        })\n      }\n    }\n\n    JupyterCommManager.prototype.get_client_comm = function(plot_id, comm_id, msg_handler) {\n      if (comm_id in window.PyViz.comms) {\n        return window.PyViz.comms[comm_id];\n      } else if (window.comm_manager || ((window.Jupyter !== undefined) && (Jupyter.notebook.kernel != null))) {\n        var comm_manager = window.comm_manager || Jupyter.notebook.kernel.comm_manager;\n        var comm = comm_manager.new_comm(comm_id, {}, {}, {}, comm_id);\n        if (msg_handler) {\n          comm.on_msg(msg_handler);\n        }\n      } else if ((plot_id in window.PyViz.kernels) && (window.PyViz.kernels[plot_id])) {\n        var comm = window.PyViz.kernels[plot_id].connectToComm(comm_id);\n        comm.open();\n        if (msg_handler) {\n          comm.onMsg = msg_handler;\n        }\n      } else if (typeof google != 'undefined' && google.colab.kernel != null) {\n        var comm_promise = google.colab.kernel.comms.open(comm_id)\n        comm_promise.then((comm) => {\n          window.PyViz.comms[comm_id] = comm;\n          if (msg_handler) {\n            var messages = comm.messages[Symbol.asyncIterator]();\n            function processIteratorResult(result) {\n              var message = result.value;\n              var content = {data: message.data};\n              var metadata = message.metadata || {comm_id};\n              var msg = {content, metadata}\n              msg_handler(msg);\n              return messages.next().then(processIteratorResult);\n            }\n            return messages.next().then(processIteratorResult);\n          }\n        }) \n        var sendClosure = (data, metadata, buffers, disposeOnDone) => {\n          return comm_promise.then((comm) => {\n            comm.send(data, metadata, buffers, disposeOnDone);\n          });\n        };\n        var comm = {\n          send: sendClosure\n        };\n      }\n      window.PyViz.comms[comm_id] = comm;\n      return comm;\n    }\n    window.PyViz.comm_manager = new JupyterCommManager();\n    \n\n\nvar JS_MIME_TYPE = 'application/javascript';\nvar HTML_MIME_TYPE = 'text/html';\nvar EXEC_MIME_TYPE = 'application/vnd.holoviews_exec.v0+json';\nvar CLASS_NAME = 'output';\n\n/**\n * Render data to the DOM node\n */\nfunction render(props, node) {\n  var div = document.createElement(\"div\");\n  var script = document.createElement(\"script\");\n  node.appendChild(div);\n  node.appendChild(script);\n}\n\n/**\n * Handle when a new output is added\n */\nfunction handle_add_output(event, handle) {\n  var output_area = handle.output_area;\n  var output = handle.output;\n  if ((output.data == undefined) || (!output.data.hasOwnProperty(EXEC_MIME_TYPE))) {\n    return\n  }\n  var id = output.metadata[EXEC_MIME_TYPE][\"id\"];\n  var toinsert = output_area.element.find(\".\" + CLASS_NAME.split(' ')[0]);\n  if (id !== undefined) {\n    var nchildren = toinsert.length;\n    var html_node = toinsert[nchildren-1].children[0];\n    html_node.innerHTML = output.data[HTML_MIME_TYPE];\n    var scripts = [];\n    var nodelist = html_node.querySelectorAll(\"script\");\n    for (var i in nodelist) {\n      if (nodelist.hasOwnProperty(i)) {\n        scripts.push(nodelist[i])\n      }\n    }\n\n    scripts.forEach( function (oldScript) {\n      var newScript = document.createElement(\"script\");\n      var attrs = [];\n      var nodemap = oldScript.attributes;\n      for (var j in nodemap) {\n        if (nodemap.hasOwnProperty(j)) {\n          attrs.push(nodemap[j])\n        }\n      }\n      attrs.forEach(function(attr) { newScript.setAttribute(attr.name, attr.value) });\n      newScript.appendChild(document.createTextNode(oldScript.innerHTML));\n      oldScript.parentNode.replaceChild(newScript, oldScript);\n    });\n    if (JS_MIME_TYPE in output.data) {\n      toinsert[nchildren-1].children[1].textContent = output.data[JS_MIME_TYPE];\n    }\n    output_area._hv_plot_id = id;\n    if ((window.Bokeh !== undefined) && (id in Bokeh.index)) {\n      window.PyViz.plot_index[id] = Bokeh.index[id];\n    } else {\n      window.PyViz.plot_index[id] = null;\n    }\n  } else if (output.metadata[EXEC_MIME_TYPE][\"server_id\"] !== undefined) {\n    var bk_div = document.createElement(\"div\");\n    bk_div.innerHTML = output.data[HTML_MIME_TYPE];\n    var script_attrs = bk_div.children[0].attributes;\n    for (var i = 0; i < script_attrs.length; i++) {\n      toinsert[toinsert.length - 1].childNodes[1].setAttribute(script_attrs[i].name, script_attrs[i].value);\n    }\n    // store reference to server id on output_area\n    output_area._bokeh_server_id = output.metadata[EXEC_MIME_TYPE][\"server_id\"];\n  }\n}\n\n/**\n * Handle when an output is cleared or removed\n */\nfunction handle_clear_output(event, handle) {\n  var id = handle.cell.output_area._hv_plot_id;\n  var server_id = handle.cell.output_area._bokeh_server_id;\n  if (((id === undefined) || !(id in PyViz.plot_index)) && (server_id !== undefined)) { return; }\n  var comm = window.PyViz.comm_manager.get_client_comm(\"hv-extension-comm\", \"hv-extension-comm\", function () {});\n  if (server_id !== null) {\n    comm.send({event_type: 'server_delete', 'id': server_id});\n    return;\n  } else if (comm !== null) {\n    comm.send({event_type: 'delete', 'id': id});\n  }\n  delete PyViz.plot_index[id];\n  if ((window.Bokeh !== undefined) & (id in window.Bokeh.index)) {\n    var doc = window.Bokeh.index[id].model.document\n    doc.clear();\n    const i = window.Bokeh.documents.indexOf(doc);\n    if (i > -1) {\n      window.Bokeh.documents.splice(i, 1);\n    }\n  }\n}\n\n/**\n * Handle kernel restart event\n */\nfunction handle_kernel_cleanup(event, handle) {\n  delete PyViz.comms[\"hv-extension-comm\"];\n  window.PyViz.plot_index = {}\n}\n\n/**\n * Handle update_display_data messages\n */\nfunction handle_update_output(event, handle) {\n  handle_clear_output(event, {cell: {output_area: handle.output_area}})\n  handle_add_output(event, handle)\n}\n\nfunction register_renderer(events, OutputArea) {\n  function append_mime(data, metadata, element) {\n    // create a DOM node to render to\n    var toinsert = this.create_output_subarea(\n    metadata,\n    CLASS_NAME,\n    EXEC_MIME_TYPE\n    );\n    this.keyboard_manager.register_events(toinsert);\n    // Render to node\n    var props = {data: data, metadata: metadata[EXEC_MIME_TYPE]};\n    render(props, toinsert[0]);\n    element.append(toinsert);\n    return toinsert\n  }\n\n  events.on('output_added.OutputArea', handle_add_output);\n  events.on('output_updated.OutputArea', handle_update_output);\n  events.on('clear_output.CodeCell', handle_clear_output);\n  events.on('delete.Cell', handle_clear_output);\n  events.on('kernel_ready.Kernel', handle_kernel_cleanup);\n\n  OutputArea.prototype.register_mime_type(EXEC_MIME_TYPE, append_mime, {\n    safe: true,\n    index: 0\n  });\n}\n\nif (window.Jupyter !== undefined) {\n  try {\n    var events = require('base/js/events');\n    var OutputArea = require('notebook/js/outputarea').OutputArea;\n    if (OutputArea.prototype.mime_types().indexOf(EXEC_MIME_TYPE) == -1) {\n      register_renderer(events, OutputArea);\n    }\n  } catch(err) {\n  }\n}\n",
      "application/vnd.holoviews_load.v0+json": ""
     },
     "metadata": {},
     "output_type": "display_data"
    },
    {
     "data": {
      "text/html": [
       "<style>*[data-root-id],\n",
       "*[data-root-id] > * {\n",
       "  box-sizing: border-box;\n",
       "  font-family: var(--jp-ui-font-family);\n",
       "  font-size: var(--jp-ui-font-size1);\n",
       "  color: var(--vscode-editor-foreground, var(--jp-ui-font-color1));\n",
       "}\n",
       "\n",
       "/* Override VSCode background color */\n",
       ".cell-output-ipywidget-background:has(\n",
       "    > .cell-output-ipywidget-background > .lm-Widget > *[data-root-id]\n",
       "  ),\n",
       ".cell-output-ipywidget-background:has(> .lm-Widget > *[data-root-id]) {\n",
       "  background-color: transparent !important;\n",
       "}\n",
       "</style>"
      ]
     },
     "metadata": {},
     "output_type": "display_data"
    },
    {
     "data": {
      "application/vnd.holoviews_exec.v0+json": "",
      "text/html": [
       "<div id='94fe46b3-f46e-421b-8c69-96a821e4984f'>\n",
       "  <div id=\"d3dd56db-441d-414a-85f1-3ad1b702e59d\" data-root-id=\"94fe46b3-f46e-421b-8c69-96a821e4984f\" style=\"display: contents;\"></div>\n",
       "</div>\n",
       "<script type=\"application/javascript\">(function(root) {\n",
       "  var docs_json = {\"a8a2c6aa-7921-4715-8941-f349e7a300fd\":{\"version\":\"3.3.1\",\"title\":\"Bokeh Application\",\"roots\":[{\"type\":\"object\",\"name\":\"panel.models.browser.BrowserInfo\",\"id\":\"94fe46b3-f46e-421b-8c69-96a821e4984f\"},{\"type\":\"object\",\"name\":\"panel.models.comm_manager.CommManager\",\"id\":\"a8a4a697-8b11-48e0-ab54-11cb4b7e8299\",\"attributes\":{\"plot_id\":\"94fe46b3-f46e-421b-8c69-96a821e4984f\",\"comm_id\":\"4f79988f77d1476dafa810d2196d961c\",\"client_comm_id\":\"184011e7e0f04e318609b422e8f24b37\"}}],\"defs\":[{\"type\":\"model\",\"name\":\"ReactiveHTML1\"},{\"type\":\"model\",\"name\":\"FlexBox1\",\"properties\":[{\"name\":\"align_content\",\"kind\":\"Any\",\"default\":\"flex-start\"},{\"name\":\"align_items\",\"kind\":\"Any\",\"default\":\"flex-start\"},{\"name\":\"flex_direction\",\"kind\":\"Any\",\"default\":\"row\"},{\"name\":\"flex_wrap\",\"kind\":\"Any\",\"default\":\"wrap\"},{\"name\":\"justify_content\",\"kind\":\"Any\",\"default\":\"flex-start\"}]},{\"type\":\"model\",\"name\":\"FloatPanel1\",\"properties\":[{\"name\":\"config\",\"kind\":\"Any\",\"default\":{\"type\":\"map\"}},{\"name\":\"contained\",\"kind\":\"Any\",\"default\":true},{\"name\":\"position\",\"kind\":\"Any\",\"default\":\"right-top\"},{\"name\":\"offsetx\",\"kind\":\"Any\",\"default\":null},{\"name\":\"offsety\",\"kind\":\"Any\",\"default\":null},{\"name\":\"theme\",\"kind\":\"Any\",\"default\":\"primary\"},{\"name\":\"status\",\"kind\":\"Any\",\"default\":\"normalized\"}]},{\"type\":\"model\",\"name\":\"GridStack1\",\"properties\":[{\"name\":\"mode\",\"kind\":\"Any\",\"default\":\"warn\"},{\"name\":\"ncols\",\"kind\":\"Any\",\"default\":null},{\"name\":\"nrows\",\"kind\":\"Any\",\"default\":null},{\"name\":\"allow_resize\",\"kind\":\"Any\",\"default\":true},{\"name\":\"allow_drag\",\"kind\":\"Any\",\"default\":true},{\"name\":\"state\",\"kind\":\"Any\",\"default\":[]}]},{\"type\":\"model\",\"name\":\"drag1\",\"properties\":[{\"name\":\"slider_width\",\"kind\":\"Any\",\"default\":5},{\"name\":\"slider_color\",\"kind\":\"Any\",\"default\":\"black\"},{\"name\":\"value\",\"kind\":\"Any\",\"default\":50}]},{\"type\":\"model\",\"name\":\"click1\",\"properties\":[{\"name\":\"terminal_output\",\"kind\":\"Any\",\"default\":\"\"},{\"name\":\"debug_name\",\"kind\":\"Any\",\"default\":\"\"},{\"name\":\"clears\",\"kind\":\"Any\",\"default\":0}]},{\"type\":\"model\",\"name\":\"toggle_value1\",\"properties\":[{\"name\":\"active_icons\",\"kind\":\"Any\",\"default\":{\"type\":\"map\"}},{\"name\":\"options\",\"kind\":\"Any\",\"default\":{\"type\":\"map\",\"entries\":[[\"favorite\",\"heart\"]]}},{\"name\":\"value\",\"kind\":\"Any\",\"default\":[]},{\"name\":\"_reactions\",\"kind\":\"Any\",\"default\":[]},{\"name\":\"_base_url\",\"kind\":\"Any\",\"default\":\"https://tabler-icons.io/static/tabler-icons/icons/\"}]},{\"type\":\"model\",\"name\":\"copy_to_clipboard1\",\"properties\":[{\"name\":\"value\",\"kind\":\"Any\",\"default\":null},{\"name\":\"fill\",\"kind\":\"Any\",\"default\":\"none\"}]},{\"type\":\"model\",\"name\":\"FastWrapper1\",\"properties\":[{\"name\":\"object\",\"kind\":\"Any\",\"default\":null},{\"name\":\"style\",\"kind\":\"Any\",\"default\":null}]},{\"type\":\"model\",\"name\":\"NotificationAreaBase1\",\"properties\":[{\"name\":\"js_events\",\"kind\":\"Any\",\"default\":{\"type\":\"map\"}},{\"name\":\"position\",\"kind\":\"Any\",\"default\":\"bottom-right\"},{\"name\":\"_clear\",\"kind\":\"Any\",\"default\":0}]},{\"type\":\"model\",\"name\":\"NotificationArea1\",\"properties\":[{\"name\":\"js_events\",\"kind\":\"Any\",\"default\":{\"type\":\"map\"}},{\"name\":\"notifications\",\"kind\":\"Any\",\"default\":[]},{\"name\":\"position\",\"kind\":\"Any\",\"default\":\"bottom-right\"},{\"name\":\"_clear\",\"kind\":\"Any\",\"default\":0},{\"name\":\"types\",\"kind\":\"Any\",\"default\":[{\"type\":\"map\",\"entries\":[[\"type\",\"warning\"],[\"background\",\"#ffc107\"],[\"icon\",{\"type\":\"map\",\"entries\":[[\"className\",\"fas fa-exclamation-triangle\"],[\"tagName\",\"i\"],[\"color\",\"white\"]]}]]},{\"type\":\"map\",\"entries\":[[\"type\",\"info\"],[\"background\",\"#007bff\"],[\"icon\",{\"type\":\"map\",\"entries\":[[\"className\",\"fas fa-info-circle\"],[\"tagName\",\"i\"],[\"color\",\"white\"]]}]]}]}]},{\"type\":\"model\",\"name\":\"Notification\",\"properties\":[{\"name\":\"background\",\"kind\":\"Any\",\"default\":null},{\"name\":\"duration\",\"kind\":\"Any\",\"default\":3000},{\"name\":\"icon\",\"kind\":\"Any\",\"default\":null},{\"name\":\"message\",\"kind\":\"Any\",\"default\":\"\"},{\"name\":\"notification_type\",\"kind\":\"Any\",\"default\":null},{\"name\":\"_destroyed\",\"kind\":\"Any\",\"default\":false}]},{\"type\":\"model\",\"name\":\"TemplateActions1\",\"properties\":[{\"name\":\"open_modal\",\"kind\":\"Any\",\"default\":0},{\"name\":\"close_modal\",\"kind\":\"Any\",\"default\":0}]},{\"type\":\"model\",\"name\":\"BootstrapTemplateActions1\",\"properties\":[{\"name\":\"open_modal\",\"kind\":\"Any\",\"default\":0},{\"name\":\"close_modal\",\"kind\":\"Any\",\"default\":0}]},{\"type\":\"model\",\"name\":\"MaterialTemplateActions1\",\"properties\":[{\"name\":\"open_modal\",\"kind\":\"Any\",\"default\":0},{\"name\":\"close_modal\",\"kind\":\"Any\",\"default\":0}]}]}};\n",
       "  var render_items = [{\"docid\":\"a8a2c6aa-7921-4715-8941-f349e7a300fd\",\"roots\":{\"94fe46b3-f46e-421b-8c69-96a821e4984f\":\"d3dd56db-441d-414a-85f1-3ad1b702e59d\"},\"root_ids\":[\"94fe46b3-f46e-421b-8c69-96a821e4984f\"]}];\n",
       "  var docs = Object.values(docs_json)\n",
       "  if (!docs) {\n",
       "    return\n",
       "  }\n",
       "  const py_version = docs[0].version.replace('rc', '-rc.').replace('.dev', '-dev.')\n",
       "  const is_dev = py_version.indexOf(\"+\") !== -1 || py_version.indexOf(\"-\") !== -1\n",
       "  function embed_document(root) {\n",
       "    var Bokeh = get_bokeh(root)\n",
       "    Bokeh.embed.embed_items_notebook(docs_json, render_items);\n",
       "    for (const render_item of render_items) {\n",
       "      for (const root_id of render_item.root_ids) {\n",
       "\tconst id_el = document.getElementById(root_id)\n",
       "\tif (id_el.children.length && (id_el.children[0].className === 'bk-root')) {\n",
       "\t  const root_el = id_el.children[0]\n",
       "\t  root_el.id = root_el.id + '-rendered'\n",
       "\t}\n",
       "      }\n",
       "    }\n",
       "  }\n",
       "  function get_bokeh(root) {\n",
       "    if (root.Bokeh === undefined) {\n",
       "      return null\n",
       "    } else if (root.Bokeh.version !== py_version && !is_dev) {\n",
       "      if (root.Bokeh.versions === undefined || !root.Bokeh.versions.has(py_version)) {\n",
       "\treturn null\n",
       "      }\n",
       "      return root.Bokeh.versions.get(py_version);\n",
       "    } else if (root.Bokeh.version === py_version) {\n",
       "      return root.Bokeh\n",
       "    }\n",
       "    return null\n",
       "  }\n",
       "  function is_loaded(root) {\n",
       "    var Bokeh = get_bokeh(root)\n",
       "    return (Bokeh != null && Bokeh.Panel !== undefined)\n",
       "  }\n",
       "  if (is_loaded(root)) {\n",
       "    embed_document(root);\n",
       "  } else {\n",
       "    var attempts = 0;\n",
       "    var timer = setInterval(function(root) {\n",
       "      if (is_loaded(root)) {\n",
       "        clearInterval(timer);\n",
       "        embed_document(root);\n",
       "      } else if (document.readyState == \"complete\") {\n",
       "        attempts++;\n",
       "        if (attempts > 200) {\n",
       "          clearInterval(timer);\n",
       "\t  var Bokeh = get_bokeh(root)\n",
       "\t  if (Bokeh == null || Bokeh.Panel == null) {\n",
       "            console.warn(\"Panel: ERROR: Unable to run Panel code because Bokeh or Panel library is missing\");\n",
       "\t  } else {\n",
       "\t    console.warn(\"Panel: WARNING: Attempting to render but not all required libraries could be resolved.\")\n",
       "\t    embed_document(root)\n",
       "\t  }\n",
       "        }\n",
       "      }\n",
       "    }, 25, root)\n",
       "  }\n",
       "})(window);</script>"
      ]
     },
     "metadata": {
      "application/vnd.holoviews_exec.v0+json": {
       "id": "94fe46b3-f46e-421b-8c69-96a821e4984f"
      }
     },
     "output_type": "display_data"
    },
    {
     "data": {
      "application/vnd.jupyter.widget-view+json": {
       "model_id": "95f1fb794e084019b42445ac6cc8d9a5",
       "version_major": 2,
       "version_minor": 0
      },
      "text/plain": [
       "BokehModel(combine_events=True, render_bundle={'docs_json': {'71946e57-a5e8-43a3-a57b-6ff54cb61dd2': {'version…"
      ]
     },
     "execution_count": 17,
     "metadata": {},
     "output_type": "execute_result"
    }
   ],
   "source": [
    "logo_path = r'https://images.pexels.com/photos/3109167/pexels-photo-3109167.jpeg'\n",
    "\n",
    "pubmed_tool.full_visual('demo_expanded.csv', mode = 'jupyter', \n",
    "                        keyword = 'genomics',\n",
    "                        primary_color = 'blue', secondary_color = 'grey', \n",
    "                        accent_color = 'grey',\n",
    "                        logo_path = logo_path)"
   ]
  },
  {
   "cell_type": "markdown",
   "metadata": {},
   "source": [
    "#### Interactive Visualization"
   ]
  },
  {
   "cell_type": "markdown",
   "metadata": {},
   "source": [
    "Our more robust visualization is created in the interactive mode, which allows for dynamic additional filtering of material in active, interactive exploration."
   ]
  },
  {
   "cell_type": "code",
   "execution_count": 16,
   "metadata": {},
   "outputs": [
    {
     "name": "stderr",
     "output_type": "stream",
     "text": [
      "2023-12-05 21:28:51 - INFO: ['No project directory given. Directory set to the current working directory.']\n",
      "2023-12-05 21:28:51 - INFO: ['No project directory given. Directory set to the current working directory.']\n",
      "2023-12-05 21:29:42 - ERROR: Error occured in path validation: \n",
      " \tError message(s):\n",
      " \t[WinError 123] The filename, directory name, or volume label syntax is incorrect: 'https:'\n"
     ]
    },
    {
     "data": {
      "application/javascript": "(function(root) {\n  function now() {\n    return new Date();\n  }\n\n  var force = true;\n  var py_version = '3.3.1'.replace('rc', '-rc.').replace('.dev', '-dev.');\n  var is_dev = py_version.indexOf(\"+\") !== -1 || py_version.indexOf(\"-\") !== -1;\n  var reloading = true;\n  var Bokeh = root.Bokeh;\n  var bokeh_loaded = Bokeh != null && (Bokeh.version === py_version || (Bokeh.versions !== undefined && Bokeh.versions.has(py_version)));\n\n  if (typeof (root._bokeh_timeout) === \"undefined\" || force) {\n    root._bokeh_timeout = Date.now() + 5000;\n    root._bokeh_failed_load = false;\n  }\n\n  function run_callbacks() {\n    try {\n      root._bokeh_onload_callbacks.forEach(function(callback) {\n        if (callback != null)\n          callback();\n      });\n    } finally {\n      delete root._bokeh_onload_callbacks;\n    }\n    console.debug(\"Bokeh: all callbacks have finished\");\n  }\n\n  function load_libs(css_urls, js_urls, js_modules, js_exports, callback) {\n    if (css_urls == null) css_urls = [];\n    if (js_urls == null) js_urls = [];\n    if (js_modules == null) js_modules = [];\n    if (js_exports == null) js_exports = {};\n\n    root._bokeh_onload_callbacks.push(callback);\n\n    if (root._bokeh_is_loading > 0) {\n      console.debug(\"Bokeh: BokehJS is being loaded, scheduling callback at\", now());\n      return null;\n    }\n    if (js_urls.length === 0 && js_modules.length === 0 && Object.keys(js_exports).length === 0) {\n      run_callbacks();\n      return null;\n    }\n    if (!reloading) {\n      console.debug(\"Bokeh: BokehJS not loaded, scheduling load and callback at\", now());\n    }\n\n    function on_load() {\n      root._bokeh_is_loading--;\n      if (root._bokeh_is_loading === 0) {\n        console.debug(\"Bokeh: all BokehJS libraries/stylesheets loaded\");\n        run_callbacks()\n      }\n    }\n    window._bokeh_on_load = on_load\n\n    function on_error() {\n      console.error(\"failed to load \" + url);\n    }\n\n    var skip = [];\n    if (window.requirejs) {\n      window.requirejs.config({'packages': {}, 'paths': {'jspanel': 'https://cdn.jsdelivr.net/npm/jspanel4@4.12.0/dist/jspanel', 'jspanel-modal': 'https://cdn.jsdelivr.net/npm/jspanel4@4.12.0/dist/extensions/modal/jspanel.modal', 'jspanel-tooltip': 'https://cdn.jsdelivr.net/npm/jspanel4@4.12.0/dist/extensions/tooltip/jspanel.tooltip', 'jspanel-hint': 'https://cdn.jsdelivr.net/npm/jspanel4@4.12.0/dist/extensions/hint/jspanel.hint', 'jspanel-layout': 'https://cdn.jsdelivr.net/npm/jspanel4@4.12.0/dist/extensions/layout/jspanel.layout', 'jspanel-contextmenu': 'https://cdn.jsdelivr.net/npm/jspanel4@4.12.0/dist/extensions/contextmenu/jspanel.contextmenu', 'jspanel-dock': 'https://cdn.jsdelivr.net/npm/jspanel4@4.12.0/dist/extensions/dock/jspanel.dock', 'gridstack': 'https://cdn.jsdelivr.net/npm/gridstack@7.2.3/dist/gridstack-all', 'notyf': 'https://cdn.jsdelivr.net/npm/notyf@3/notyf.min'}, 'shim': {'jspanel': {'exports': 'jsPanel'}, 'gridstack': {'exports': 'GridStack'}}});\n      require([\"jspanel\"], function(jsPanel) {\n\twindow.jsPanel = jsPanel\n\ton_load()\n      })\n      require([\"jspanel-modal\"], function() {\n\ton_load()\n      })\n      require([\"jspanel-tooltip\"], function() {\n\ton_load()\n      })\n      require([\"jspanel-hint\"], function() {\n\ton_load()\n      })\n      require([\"jspanel-layout\"], function() {\n\ton_load()\n      })\n      require([\"jspanel-contextmenu\"], function() {\n\ton_load()\n      })\n      require([\"jspanel-dock\"], function() {\n\ton_load()\n      })\n      require([\"gridstack\"], function(GridStack) {\n\twindow.GridStack = GridStack\n\ton_load()\n      })\n      require([\"notyf\"], function() {\n\ton_load()\n      })\n      root._bokeh_is_loading = css_urls.length + 9;\n    } else {\n      root._bokeh_is_loading = css_urls.length + js_urls.length + js_modules.length + Object.keys(js_exports).length;\n    }\n\n    var existing_stylesheets = []\n    var links = document.getElementsByTagName('link')\n    for (var i = 0; i < links.length; i++) {\n      var link = links[i]\n      if (link.href != null) {\n\texisting_stylesheets.push(link.href)\n      }\n    }\n    for (var i = 0; i < css_urls.length; i++) {\n      var url = css_urls[i];\n      if (existing_stylesheets.indexOf(url) !== -1) {\n\ton_load()\n\tcontinue;\n      }\n      const element = document.createElement(\"link\");\n      element.onload = on_load;\n      element.onerror = on_error;\n      element.rel = \"stylesheet\";\n      element.type = \"text/css\";\n      element.href = url;\n      console.debug(\"Bokeh: injecting link tag for BokehJS stylesheet: \", url);\n      document.body.appendChild(element);\n    }    if (((window['jsPanel'] !== undefined) && (!(window['jsPanel'] instanceof HTMLElement))) || window.requirejs) {\n      var urls = ['https://cdn.holoviz.org/panel/1.3.1/dist/bundled/floatpanel/jspanel4@4.12.0/dist/jspanel.js', 'https://cdn.holoviz.org/panel/1.3.1/dist/bundled/floatpanel/jspanel4@4.12.0/dist/extensions/modal/jspanel.modal.js', 'https://cdn.holoviz.org/panel/1.3.1/dist/bundled/floatpanel/jspanel4@4.12.0/dist/extensions/tooltip/jspanel.tooltip.js', 'https://cdn.holoviz.org/panel/1.3.1/dist/bundled/floatpanel/jspanel4@4.12.0/dist/extensions/hint/jspanel.hint.js', 'https://cdn.holoviz.org/panel/1.3.1/dist/bundled/floatpanel/jspanel4@4.12.0/dist/extensions/layout/jspanel.layout.js', 'https://cdn.holoviz.org/panel/1.3.1/dist/bundled/floatpanel/jspanel4@4.12.0/dist/extensions/contextmenu/jspanel.contextmenu.js', 'https://cdn.holoviz.org/panel/1.3.1/dist/bundled/floatpanel/jspanel4@4.12.0/dist/extensions/dock/jspanel.dock.js'];\n      for (var i = 0; i < urls.length; i++) {\n        skip.push(urls[i])\n      }\n    }    if (((window['GridStack'] !== undefined) && (!(window['GridStack'] instanceof HTMLElement))) || window.requirejs) {\n      var urls = ['https://cdn.holoviz.org/panel/1.3.1/dist/bundled/gridstack/gridstack@7.2.3/dist/gridstack-all.js'];\n      for (var i = 0; i < urls.length; i++) {\n        skip.push(urls[i])\n      }\n    }    if (((window['Notyf'] !== undefined) && (!(window['Notyf'] instanceof HTMLElement))) || window.requirejs) {\n      var urls = ['https://cdn.holoviz.org/panel/1.3.1/dist/bundled/notificationarea/notyf@3/notyf.min.js'];\n      for (var i = 0; i < urls.length; i++) {\n        skip.push(urls[i])\n      }\n    }    var existing_scripts = []\n    var scripts = document.getElementsByTagName('script')\n    for (var i = 0; i < scripts.length; i++) {\n      var script = scripts[i]\n      if (script.src != null) {\n\texisting_scripts.push(script.src)\n      }\n    }\n    for (var i = 0; i < js_urls.length; i++) {\n      var url = js_urls[i];\n      if (skip.indexOf(url) !== -1 || existing_scripts.indexOf(url) !== -1) {\n\tif (!window.requirejs) {\n\t  on_load();\n\t}\n\tcontinue;\n      }\n      var element = document.createElement('script');\n      element.onload = on_load;\n      element.onerror = on_error;\n      element.async = false;\n      element.src = url;\n      console.debug(\"Bokeh: injecting script tag for BokehJS library: \", url);\n      document.head.appendChild(element);\n    }\n    for (var i = 0; i < js_modules.length; i++) {\n      var url = js_modules[i];\n      if (skip.indexOf(url) !== -1 || existing_scripts.indexOf(url) !== -1) {\n\tif (!window.requirejs) {\n\t  on_load();\n\t}\n\tcontinue;\n      }\n      var element = document.createElement('script');\n      element.onload = on_load;\n      element.onerror = on_error;\n      element.async = false;\n      element.src = url;\n      element.type = \"module\";\n      console.debug(\"Bokeh: injecting script tag for BokehJS library: \", url);\n      document.head.appendChild(element);\n    }\n    for (const name in js_exports) {\n      var url = js_exports[name];\n      if (skip.indexOf(url) >= 0 || root[name] != null) {\n\tif (!window.requirejs) {\n\t  on_load();\n\t}\n\tcontinue;\n      }\n      var element = document.createElement('script');\n      element.onerror = on_error;\n      element.async = false;\n      element.type = \"module\";\n      console.debug(\"Bokeh: injecting script tag for BokehJS library: \", url);\n      element.textContent = `\n      import ${name} from \"${url}\"\n      window.${name} = ${name}\n      window._bokeh_on_load()\n      `\n      document.head.appendChild(element);\n    }\n    if (!js_urls.length && !js_modules.length) {\n      on_load()\n    }\n  };\n\n  function inject_raw_css(css) {\n    const element = document.createElement(\"style\");\n    element.appendChild(document.createTextNode(css));\n    document.body.appendChild(element);\n  }\n\n  var js_urls = [];\n  var js_modules = [];\n  var js_exports = {};\n  var css_urls = [];\n  var inline_js = [    function(Bokeh) {\n      Bokeh.set_log_level(\"info\");\n    },\nfunction(Bokeh) {} // ensure no trailing comma for IE\n  ];\n\n  function run_inline_js() {\n    if ((root.Bokeh !== undefined) || (force === true)) {\n      for (var i = 0; i < inline_js.length; i++) {\n        inline_js[i].call(root, root.Bokeh);\n      }\n      // Cache old bokeh versions\n      if (Bokeh != undefined && !reloading) {\n\tvar NewBokeh = root.Bokeh;\n\tif (Bokeh.versions === undefined) {\n\t  Bokeh.versions = new Map();\n\t}\n\tif (NewBokeh.version !== Bokeh.version) {\n\t  Bokeh.versions.set(NewBokeh.version, NewBokeh)\n\t}\n\troot.Bokeh = Bokeh;\n      }} else if (Date.now() < root._bokeh_timeout) {\n      setTimeout(run_inline_js, 100);\n    } else if (!root._bokeh_failed_load) {\n      console.log(\"Bokeh: BokehJS failed to load within specified timeout.\");\n      root._bokeh_failed_load = true;\n    }\n    root._bokeh_is_initializing = false\n  }\n\n  function load_or_wait() {\n    // Implement a backoff loop that tries to ensure we do not load multiple\n    // versions of Bokeh and its dependencies at the same time.\n    // In recent versions we use the root._bokeh_is_initializing flag\n    // to determine whether there is an ongoing attempt to initialize\n    // bokeh, however for backward compatibility we also try to ensure\n    // that we do not start loading a newer (Panel>=1.0 and Bokeh>3) version\n    // before older versions are fully initialized.\n    if (root._bokeh_is_initializing && Date.now() > root._bokeh_timeout) {\n      root._bokeh_is_initializing = false;\n      root._bokeh_onload_callbacks = undefined;\n      console.log(\"Bokeh: BokehJS was loaded multiple times but one version failed to initialize.\");\n      load_or_wait();\n    } else if (root._bokeh_is_initializing || (typeof root._bokeh_is_initializing === \"undefined\" && root._bokeh_onload_callbacks !== undefined)) {\n      setTimeout(load_or_wait, 100);\n    } else {\n      Bokeh = root.Bokeh;\n      bokeh_loaded = Bokeh != null && (Bokeh.version === py_version || (Bokeh.versions !== undefined && Bokeh.versions.has(py_version)));\n      root._bokeh_is_initializing = true\n      root._bokeh_onload_callbacks = []\n      if (!reloading && (!bokeh_loaded || is_dev)) {\n\troot.Bokeh = undefined;\n      }\n      load_libs(css_urls, js_urls, js_modules, js_exports, function() {\n\tconsole.debug(\"Bokeh: BokehJS plotting callback run at\", now());\n\trun_inline_js();\n      });\n    }\n  }\n  // Give older versions of the autoload script a head-start to ensure\n  // they initialize before we start loading newer version.\n  setTimeout(load_or_wait, 100)\n}(window));",
      "application/vnd.holoviews_load.v0+json": ""
     },
     "metadata": {},
     "output_type": "display_data"
    },
    {
     "data": {
      "application/javascript": "\nif ((window.PyViz === undefined) || (window.PyViz instanceof HTMLElement)) {\n  window.PyViz = {comms: {}, comm_status:{}, kernels:{}, receivers: {}, plot_index: []}\n}\n\n\n    function JupyterCommManager() {\n    }\n\n    JupyterCommManager.prototype.register_target = function(plot_id, comm_id, msg_handler) {\n      if (window.comm_manager || ((window.Jupyter !== undefined) && (Jupyter.notebook.kernel != null))) {\n        var comm_manager = window.comm_manager || Jupyter.notebook.kernel.comm_manager;\n        comm_manager.register_target(comm_id, function(comm) {\n          comm.on_msg(msg_handler);\n        });\n      } else if ((plot_id in window.PyViz.kernels) && (window.PyViz.kernels[plot_id])) {\n        window.PyViz.kernels[plot_id].registerCommTarget(comm_id, function(comm) {\n          comm.onMsg = msg_handler;\n        });\n      } else if (typeof google != 'undefined' && google.colab.kernel != null) {\n        google.colab.kernel.comms.registerTarget(comm_id, (comm) => {\n          var messages = comm.messages[Symbol.asyncIterator]();\n          function processIteratorResult(result) {\n            var message = result.value;\n            console.log(message)\n            var content = {data: message.data, comm_id};\n            var buffers = []\n            for (var buffer of message.buffers || []) {\n              buffers.push(new DataView(buffer))\n            }\n            var metadata = message.metadata || {};\n            var msg = {content, buffers, metadata}\n            msg_handler(msg);\n            return messages.next().then(processIteratorResult);\n          }\n          return messages.next().then(processIteratorResult);\n        })\n      }\n    }\n\n    JupyterCommManager.prototype.get_client_comm = function(plot_id, comm_id, msg_handler) {\n      if (comm_id in window.PyViz.comms) {\n        return window.PyViz.comms[comm_id];\n      } else if (window.comm_manager || ((window.Jupyter !== undefined) && (Jupyter.notebook.kernel != null))) {\n        var comm_manager = window.comm_manager || Jupyter.notebook.kernel.comm_manager;\n        var comm = comm_manager.new_comm(comm_id, {}, {}, {}, comm_id);\n        if (msg_handler) {\n          comm.on_msg(msg_handler);\n        }\n      } else if ((plot_id in window.PyViz.kernels) && (window.PyViz.kernels[plot_id])) {\n        var comm = window.PyViz.kernels[plot_id].connectToComm(comm_id);\n        comm.open();\n        if (msg_handler) {\n          comm.onMsg = msg_handler;\n        }\n      } else if (typeof google != 'undefined' && google.colab.kernel != null) {\n        var comm_promise = google.colab.kernel.comms.open(comm_id)\n        comm_promise.then((comm) => {\n          window.PyViz.comms[comm_id] = comm;\n          if (msg_handler) {\n            var messages = comm.messages[Symbol.asyncIterator]();\n            function processIteratorResult(result) {\n              var message = result.value;\n              var content = {data: message.data};\n              var metadata = message.metadata || {comm_id};\n              var msg = {content, metadata}\n              msg_handler(msg);\n              return messages.next().then(processIteratorResult);\n            }\n            return messages.next().then(processIteratorResult);\n          }\n        }) \n        var sendClosure = (data, metadata, buffers, disposeOnDone) => {\n          return comm_promise.then((comm) => {\n            comm.send(data, metadata, buffers, disposeOnDone);\n          });\n        };\n        var comm = {\n          send: sendClosure\n        };\n      }\n      window.PyViz.comms[comm_id] = comm;\n      return comm;\n    }\n    window.PyViz.comm_manager = new JupyterCommManager();\n    \n\n\nvar JS_MIME_TYPE = 'application/javascript';\nvar HTML_MIME_TYPE = 'text/html';\nvar EXEC_MIME_TYPE = 'application/vnd.holoviews_exec.v0+json';\nvar CLASS_NAME = 'output';\n\n/**\n * Render data to the DOM node\n */\nfunction render(props, node) {\n  var div = document.createElement(\"div\");\n  var script = document.createElement(\"script\");\n  node.appendChild(div);\n  node.appendChild(script);\n}\n\n/**\n * Handle when a new output is added\n */\nfunction handle_add_output(event, handle) {\n  var output_area = handle.output_area;\n  var output = handle.output;\n  if ((output.data == undefined) || (!output.data.hasOwnProperty(EXEC_MIME_TYPE))) {\n    return\n  }\n  var id = output.metadata[EXEC_MIME_TYPE][\"id\"];\n  var toinsert = output_area.element.find(\".\" + CLASS_NAME.split(' ')[0]);\n  if (id !== undefined) {\n    var nchildren = toinsert.length;\n    var html_node = toinsert[nchildren-1].children[0];\n    html_node.innerHTML = output.data[HTML_MIME_TYPE];\n    var scripts = [];\n    var nodelist = html_node.querySelectorAll(\"script\");\n    for (var i in nodelist) {\n      if (nodelist.hasOwnProperty(i)) {\n        scripts.push(nodelist[i])\n      }\n    }\n\n    scripts.forEach( function (oldScript) {\n      var newScript = document.createElement(\"script\");\n      var attrs = [];\n      var nodemap = oldScript.attributes;\n      for (var j in nodemap) {\n        if (nodemap.hasOwnProperty(j)) {\n          attrs.push(nodemap[j])\n        }\n      }\n      attrs.forEach(function(attr) { newScript.setAttribute(attr.name, attr.value) });\n      newScript.appendChild(document.createTextNode(oldScript.innerHTML));\n      oldScript.parentNode.replaceChild(newScript, oldScript);\n    });\n    if (JS_MIME_TYPE in output.data) {\n      toinsert[nchildren-1].children[1].textContent = output.data[JS_MIME_TYPE];\n    }\n    output_area._hv_plot_id = id;\n    if ((window.Bokeh !== undefined) && (id in Bokeh.index)) {\n      window.PyViz.plot_index[id] = Bokeh.index[id];\n    } else {\n      window.PyViz.plot_index[id] = null;\n    }\n  } else if (output.metadata[EXEC_MIME_TYPE][\"server_id\"] !== undefined) {\n    var bk_div = document.createElement(\"div\");\n    bk_div.innerHTML = output.data[HTML_MIME_TYPE];\n    var script_attrs = bk_div.children[0].attributes;\n    for (var i = 0; i < script_attrs.length; i++) {\n      toinsert[toinsert.length - 1].childNodes[1].setAttribute(script_attrs[i].name, script_attrs[i].value);\n    }\n    // store reference to server id on output_area\n    output_area._bokeh_server_id = output.metadata[EXEC_MIME_TYPE][\"server_id\"];\n  }\n}\n\n/**\n * Handle when an output is cleared or removed\n */\nfunction handle_clear_output(event, handle) {\n  var id = handle.cell.output_area._hv_plot_id;\n  var server_id = handle.cell.output_area._bokeh_server_id;\n  if (((id === undefined) || !(id in PyViz.plot_index)) && (server_id !== undefined)) { return; }\n  var comm = window.PyViz.comm_manager.get_client_comm(\"hv-extension-comm\", \"hv-extension-comm\", function () {});\n  if (server_id !== null) {\n    comm.send({event_type: 'server_delete', 'id': server_id});\n    return;\n  } else if (comm !== null) {\n    comm.send({event_type: 'delete', 'id': id});\n  }\n  delete PyViz.plot_index[id];\n  if ((window.Bokeh !== undefined) & (id in window.Bokeh.index)) {\n    var doc = window.Bokeh.index[id].model.document\n    doc.clear();\n    const i = window.Bokeh.documents.indexOf(doc);\n    if (i > -1) {\n      window.Bokeh.documents.splice(i, 1);\n    }\n  }\n}\n\n/**\n * Handle kernel restart event\n */\nfunction handle_kernel_cleanup(event, handle) {\n  delete PyViz.comms[\"hv-extension-comm\"];\n  window.PyViz.plot_index = {}\n}\n\n/**\n * Handle update_display_data messages\n */\nfunction handle_update_output(event, handle) {\n  handle_clear_output(event, {cell: {output_area: handle.output_area}})\n  handle_add_output(event, handle)\n}\n\nfunction register_renderer(events, OutputArea) {\n  function append_mime(data, metadata, element) {\n    // create a DOM node to render to\n    var toinsert = this.create_output_subarea(\n    metadata,\n    CLASS_NAME,\n    EXEC_MIME_TYPE\n    );\n    this.keyboard_manager.register_events(toinsert);\n    // Render to node\n    var props = {data: data, metadata: metadata[EXEC_MIME_TYPE]};\n    render(props, toinsert[0]);\n    element.append(toinsert);\n    return toinsert\n  }\n\n  events.on('output_added.OutputArea', handle_add_output);\n  events.on('output_updated.OutputArea', handle_update_output);\n  events.on('clear_output.CodeCell', handle_clear_output);\n  events.on('delete.Cell', handle_clear_output);\n  events.on('kernel_ready.Kernel', handle_kernel_cleanup);\n\n  OutputArea.prototype.register_mime_type(EXEC_MIME_TYPE, append_mime, {\n    safe: true,\n    index: 0\n  });\n}\n\nif (window.Jupyter !== undefined) {\n  try {\n    var events = require('base/js/events');\n    var OutputArea = require('notebook/js/outputarea').OutputArea;\n    if (OutputArea.prototype.mime_types().indexOf(EXEC_MIME_TYPE) == -1) {\n      register_renderer(events, OutputArea);\n    }\n  } catch(err) {\n  }\n}\n",
      "application/vnd.holoviews_load.v0+json": ""
     },
     "metadata": {},
     "output_type": "display_data"
    },
    {
     "data": {
      "text/html": [
       "<style>*[data-root-id],\n",
       "*[data-root-id] > * {\n",
       "  box-sizing: border-box;\n",
       "  font-family: var(--jp-ui-font-family);\n",
       "  font-size: var(--jp-ui-font-size1);\n",
       "  color: var(--vscode-editor-foreground, var(--jp-ui-font-color1));\n",
       "}\n",
       "\n",
       "/* Override VSCode background color */\n",
       ".cell-output-ipywidget-background:has(\n",
       "    > .cell-output-ipywidget-background > .lm-Widget > *[data-root-id]\n",
       "  ),\n",
       ".cell-output-ipywidget-background:has(> .lm-Widget > *[data-root-id]) {\n",
       "  background-color: transparent !important;\n",
       "}\n",
       "</style>"
      ]
     },
     "metadata": {},
     "output_type": "display_data"
    },
    {
     "data": {
      "application/vnd.holoviews_exec.v0+json": "",
      "text/html": [
       "<div id='356d0d26-69ef-42c8-bc80-4cf7d51c35e4'>\n",
       "  <div id=\"b1ae993d-48a3-4e58-897d-514ef609a6bd\" data-root-id=\"356d0d26-69ef-42c8-bc80-4cf7d51c35e4\" style=\"display: contents;\"></div>\n",
       "</div>\n",
       "<script type=\"application/javascript\">(function(root) {\n",
       "  var docs_json = {\"39eaa5d1-4f4e-4776-aeba-fb96a7a64d2e\":{\"version\":\"3.3.1\",\"title\":\"Bokeh Application\",\"roots\":[{\"type\":\"object\",\"name\":\"panel.models.browser.BrowserInfo\",\"id\":\"356d0d26-69ef-42c8-bc80-4cf7d51c35e4\"},{\"type\":\"object\",\"name\":\"panel.models.comm_manager.CommManager\",\"id\":\"6dc589fc-7bfc-473a-b053-fe8fe3eb086f\",\"attributes\":{\"plot_id\":\"356d0d26-69ef-42c8-bc80-4cf7d51c35e4\",\"comm_id\":\"299fea6a9dbc4329acbd4a6ef0e03ddb\",\"client_comm_id\":\"376feae2f74c4036bf1560d3be139879\"}}],\"defs\":[{\"type\":\"model\",\"name\":\"ReactiveHTML1\"},{\"type\":\"model\",\"name\":\"FlexBox1\",\"properties\":[{\"name\":\"align_content\",\"kind\":\"Any\",\"default\":\"flex-start\"},{\"name\":\"align_items\",\"kind\":\"Any\",\"default\":\"flex-start\"},{\"name\":\"flex_direction\",\"kind\":\"Any\",\"default\":\"row\"},{\"name\":\"flex_wrap\",\"kind\":\"Any\",\"default\":\"wrap\"},{\"name\":\"justify_content\",\"kind\":\"Any\",\"default\":\"flex-start\"}]},{\"type\":\"model\",\"name\":\"FloatPanel1\",\"properties\":[{\"name\":\"config\",\"kind\":\"Any\",\"default\":{\"type\":\"map\"}},{\"name\":\"contained\",\"kind\":\"Any\",\"default\":true},{\"name\":\"position\",\"kind\":\"Any\",\"default\":\"right-top\"},{\"name\":\"offsetx\",\"kind\":\"Any\",\"default\":null},{\"name\":\"offsety\",\"kind\":\"Any\",\"default\":null},{\"name\":\"theme\",\"kind\":\"Any\",\"default\":\"primary\"},{\"name\":\"status\",\"kind\":\"Any\",\"default\":\"normalized\"}]},{\"type\":\"model\",\"name\":\"GridStack1\",\"properties\":[{\"name\":\"mode\",\"kind\":\"Any\",\"default\":\"warn\"},{\"name\":\"ncols\",\"kind\":\"Any\",\"default\":null},{\"name\":\"nrows\",\"kind\":\"Any\",\"default\":null},{\"name\":\"allow_resize\",\"kind\":\"Any\",\"default\":true},{\"name\":\"allow_drag\",\"kind\":\"Any\",\"default\":true},{\"name\":\"state\",\"kind\":\"Any\",\"default\":[]}]},{\"type\":\"model\",\"name\":\"drag1\",\"properties\":[{\"name\":\"slider_width\",\"kind\":\"Any\",\"default\":5},{\"name\":\"slider_color\",\"kind\":\"Any\",\"default\":\"black\"},{\"name\":\"value\",\"kind\":\"Any\",\"default\":50}]},{\"type\":\"model\",\"name\":\"click1\",\"properties\":[{\"name\":\"terminal_output\",\"kind\":\"Any\",\"default\":\"\"},{\"name\":\"debug_name\",\"kind\":\"Any\",\"default\":\"\"},{\"name\":\"clears\",\"kind\":\"Any\",\"default\":0}]},{\"type\":\"model\",\"name\":\"toggle_value1\",\"properties\":[{\"name\":\"active_icons\",\"kind\":\"Any\",\"default\":{\"type\":\"map\"}},{\"name\":\"options\",\"kind\":\"Any\",\"default\":{\"type\":\"map\",\"entries\":[[\"favorite\",\"heart\"]]}},{\"name\":\"value\",\"kind\":\"Any\",\"default\":[]},{\"name\":\"_reactions\",\"kind\":\"Any\",\"default\":[]},{\"name\":\"_base_url\",\"kind\":\"Any\",\"default\":\"https://tabler-icons.io/static/tabler-icons/icons/\"}]},{\"type\":\"model\",\"name\":\"copy_to_clipboard1\",\"properties\":[{\"name\":\"value\",\"kind\":\"Any\",\"default\":null},{\"name\":\"fill\",\"kind\":\"Any\",\"default\":\"none\"}]},{\"type\":\"model\",\"name\":\"FastWrapper1\",\"properties\":[{\"name\":\"object\",\"kind\":\"Any\",\"default\":null},{\"name\":\"style\",\"kind\":\"Any\",\"default\":null}]},{\"type\":\"model\",\"name\":\"NotificationAreaBase1\",\"properties\":[{\"name\":\"js_events\",\"kind\":\"Any\",\"default\":{\"type\":\"map\"}},{\"name\":\"position\",\"kind\":\"Any\",\"default\":\"bottom-right\"},{\"name\":\"_clear\",\"kind\":\"Any\",\"default\":0}]},{\"type\":\"model\",\"name\":\"NotificationArea1\",\"properties\":[{\"name\":\"js_events\",\"kind\":\"Any\",\"default\":{\"type\":\"map\"}},{\"name\":\"notifications\",\"kind\":\"Any\",\"default\":[]},{\"name\":\"position\",\"kind\":\"Any\",\"default\":\"bottom-right\"},{\"name\":\"_clear\",\"kind\":\"Any\",\"default\":0},{\"name\":\"types\",\"kind\":\"Any\",\"default\":[{\"type\":\"map\",\"entries\":[[\"type\",\"warning\"],[\"background\",\"#ffc107\"],[\"icon\",{\"type\":\"map\",\"entries\":[[\"className\",\"fas fa-exclamation-triangle\"],[\"tagName\",\"i\"],[\"color\",\"white\"]]}]]},{\"type\":\"map\",\"entries\":[[\"type\",\"info\"],[\"background\",\"#007bff\"],[\"icon\",{\"type\":\"map\",\"entries\":[[\"className\",\"fas fa-info-circle\"],[\"tagName\",\"i\"],[\"color\",\"white\"]]}]]}]}]},{\"type\":\"model\",\"name\":\"Notification\",\"properties\":[{\"name\":\"background\",\"kind\":\"Any\",\"default\":null},{\"name\":\"duration\",\"kind\":\"Any\",\"default\":3000},{\"name\":\"icon\",\"kind\":\"Any\",\"default\":null},{\"name\":\"message\",\"kind\":\"Any\",\"default\":\"\"},{\"name\":\"notification_type\",\"kind\":\"Any\",\"default\":null},{\"name\":\"_destroyed\",\"kind\":\"Any\",\"default\":false}]},{\"type\":\"model\",\"name\":\"TemplateActions1\",\"properties\":[{\"name\":\"open_modal\",\"kind\":\"Any\",\"default\":0},{\"name\":\"close_modal\",\"kind\":\"Any\",\"default\":0}]},{\"type\":\"model\",\"name\":\"BootstrapTemplateActions1\",\"properties\":[{\"name\":\"open_modal\",\"kind\":\"Any\",\"default\":0},{\"name\":\"close_modal\",\"kind\":\"Any\",\"default\":0}]},{\"type\":\"model\",\"name\":\"MaterialTemplateActions1\",\"properties\":[{\"name\":\"open_modal\",\"kind\":\"Any\",\"default\":0},{\"name\":\"close_modal\",\"kind\":\"Any\",\"default\":0}]}]}};\n",
       "  var render_items = [{\"docid\":\"39eaa5d1-4f4e-4776-aeba-fb96a7a64d2e\",\"roots\":{\"356d0d26-69ef-42c8-bc80-4cf7d51c35e4\":\"b1ae993d-48a3-4e58-897d-514ef609a6bd\"},\"root_ids\":[\"356d0d26-69ef-42c8-bc80-4cf7d51c35e4\"]}];\n",
       "  var docs = Object.values(docs_json)\n",
       "  if (!docs) {\n",
       "    return\n",
       "  }\n",
       "  const py_version = docs[0].version.replace('rc', '-rc.').replace('.dev', '-dev.')\n",
       "  const is_dev = py_version.indexOf(\"+\") !== -1 || py_version.indexOf(\"-\") !== -1\n",
       "  function embed_document(root) {\n",
       "    var Bokeh = get_bokeh(root)\n",
       "    Bokeh.embed.embed_items_notebook(docs_json, render_items);\n",
       "    for (const render_item of render_items) {\n",
       "      for (const root_id of render_item.root_ids) {\n",
       "\tconst id_el = document.getElementById(root_id)\n",
       "\tif (id_el.children.length && (id_el.children[0].className === 'bk-root')) {\n",
       "\t  const root_el = id_el.children[0]\n",
       "\t  root_el.id = root_el.id + '-rendered'\n",
       "\t}\n",
       "      }\n",
       "    }\n",
       "  }\n",
       "  function get_bokeh(root) {\n",
       "    if (root.Bokeh === undefined) {\n",
       "      return null\n",
       "    } else if (root.Bokeh.version !== py_version && !is_dev) {\n",
       "      if (root.Bokeh.versions === undefined || !root.Bokeh.versions.has(py_version)) {\n",
       "\treturn null\n",
       "      }\n",
       "      return root.Bokeh.versions.get(py_version);\n",
       "    } else if (root.Bokeh.version === py_version) {\n",
       "      return root.Bokeh\n",
       "    }\n",
       "    return null\n",
       "  }\n",
       "  function is_loaded(root) {\n",
       "    var Bokeh = get_bokeh(root)\n",
       "    return (Bokeh != null && Bokeh.Panel !== undefined)\n",
       "  }\n",
       "  if (is_loaded(root)) {\n",
       "    embed_document(root);\n",
       "  } else {\n",
       "    var attempts = 0;\n",
       "    var timer = setInterval(function(root) {\n",
       "      if (is_loaded(root)) {\n",
       "        clearInterval(timer);\n",
       "        embed_document(root);\n",
       "      } else if (document.readyState == \"complete\") {\n",
       "        attempts++;\n",
       "        if (attempts > 200) {\n",
       "          clearInterval(timer);\n",
       "\t  var Bokeh = get_bokeh(root)\n",
       "\t  if (Bokeh == null || Bokeh.Panel == null) {\n",
       "            console.warn(\"Panel: ERROR: Unable to run Panel code because Bokeh or Panel library is missing\");\n",
       "\t  } else {\n",
       "\t    console.warn(\"Panel: WARNING: Attempting to render but not all required libraries could be resolved.\")\n",
       "\t    embed_document(root)\n",
       "\t  }\n",
       "        }\n",
       "      }\n",
       "    }, 25, root)\n",
       "  }\n",
       "})(window);</script>"
      ]
     },
     "metadata": {
      "application/vnd.holoviews_exec.v0+json": {
       "id": "356d0d26-69ef-42c8-bc80-4cf7d51c35e4"
      }
     },
     "output_type": "display_data"
    },
    {
     "data": {
      "application/vnd.jupyter.widget-view+json": {
       "model_id": "15ffbf6818a8424e88a5131b7718414e",
       "version_major": 2,
       "version_minor": 0
      },
      "text/plain": [
       "BokehModel(combine_events=True, render_bundle={'docs_json': {'49b17cbf-f520-4cc1-9891-c02e0df15a34': {'version…"
      ]
     },
     "execution_count": 16,
     "metadata": {},
     "output_type": "execute_result"
    }
   ],
   "source": [
    "logo_path = r'https://images.pexels.com/photos/3109167/pexels-photo-3109167.jpeg'\n",
    "\n",
    "pubmed_tool.full_visual('demo_data.csv', mode = 'jupyter', keyword = 'hiv', \n",
    "                        start_date = '2020/01/01', end_date = '2020/08/30',\n",
    "                        primary_color = 'blue', secondary_color = 'grey', \n",
    "                        accent_color = 'grey', interactive = True,\n",
    "                        logo_path = logo_path)"
   ]
  }
 ],
 "metadata": {
  "kernelspec": {
   "display_name": "Python 3",
   "language": "python",
   "name": "python3"
  },
  "language_info": {
   "codemirror_mode": {
    "name": "ipython",
    "version": 3
   },
   "file_extension": ".py",
   "mimetype": "text/x-python",
   "name": "python",
   "nbconvert_exporter": "python",
   "pygments_lexer": "ipython3",
   "version": "3.10.11"
  }
 },
 "nbformat": 4,
 "nbformat_minor": 2
}
